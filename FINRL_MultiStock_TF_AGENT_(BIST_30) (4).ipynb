{
  "nbformat": 4,
  "nbformat_minor": 0,
  "metadata": {
    "colab": {
      "name": "FINRL_MultiStock_TF_AGENT (BIST_30).ipynb",
      "provenance": [],
      "collapsed_sections": []
    },
    "kernelspec": {
      "name": "python3",
      "display_name": "Python 3"
    },
    "language_info": {
      "name": "python"
    },
    "accelerator": "GPU"
  },
  "cells": [
    {
      "cell_type": "markdown",
      "metadata": {
        "id": "s7frSit8Fftv"
      },
      "source": [
        "#FINRL Train Stock Trading\n",
        "https://github.com/AI4Finance-LLC/FinRL/blob/master/finrl/train.py"
      ]
    },
    {
      "cell_type": "markdown",
      "metadata": {
        "id": "oyqBOHfLNspW"
      },
      "source": [
        "In this work SAC used as RL agorithm rather than D Q-Network. The reason of this choice explained in \"Train Model\" section.\n",
        "\n",
        "Multi-stock trading data used in train and trade data part. So this work related to multi-stock trading with RL. DOW The latest market data for all 30 stocks in the Dow Jones Industrial Average. So in this work there is \"BIST_30_TICKER\" relates with that.\n",
        "\n"
      ]
    },
    {
      "cell_type": "markdown",
      "metadata": {
        "id": "X998rUz1FvMD"
      },
      "source": [
        "#SETUP"
      ]
    },
    {
      "cell_type": "code",
      "metadata": {
        "colab": {
          "base_uri": "https://localhost:8080/"
        },
        "id": "vdgdnI_HFaSL",
        "outputId": "2439ce3a-aa5f-401d-ad45-e5b17a143034"
      },
      "source": [
        " # Install the unstable development version in Jupyter notebook:\n",
        "!pip install git+https://github.com/AI4Finance-LLC/FinRL-Library.git"
      ],
      "execution_count": 1,
      "outputs": [
        {
          "output_type": "stream",
          "text": [
            "Collecting git+https://github.com/AI4Finance-LLC/FinRL-Library.git\n",
            "  Cloning https://github.com/AI4Finance-LLC/FinRL-Library.git to /tmp/pip-req-build-y5t3beva\n",
            "  Running command git clone -q https://github.com/AI4Finance-LLC/FinRL-Library.git /tmp/pip-req-build-y5t3beva\n",
            "Collecting pyfolio@ git+https://github.com/quantopian/pyfolio.git#egg=pyfolio-0.9.2\n",
            "  Cloning https://github.com/quantopian/pyfolio.git to /tmp/pip-install-5257piq8/pyfolio_ba5f98fe5dee403188d28885382d684f\n",
            "  Running command git clone -q https://github.com/quantopian/pyfolio.git /tmp/pip-install-5257piq8/pyfolio_ba5f98fe5dee403188d28885382d684f\n",
            "Requirement already satisfied: numpy>=1.17.3 in /usr/local/lib/python3.7/dist-packages (from finrl==0.3.0) (1.19.5)\n",
            "Requirement already satisfied: pandas>=1.1.5 in /usr/local/lib/python3.7/dist-packages (from finrl==0.3.0) (1.1.5)\n",
            "Collecting stockstats\n",
            "  Downloading stockstats-0.3.2-py2.py3-none-any.whl (13 kB)\n",
            "Collecting yfinance\n",
            "  Downloading yfinance-0.1.63.tar.gz (26 kB)\n",
            "Requirement already satisfied: matplotlib in /usr/local/lib/python3.7/dist-packages (from finrl==0.3.0) (3.2.2)\n",
            "Requirement already satisfied: scikit-learn>=0.21.0 in /usr/local/lib/python3.7/dist-packages (from finrl==0.3.0) (0.22.2.post1)\n",
            "Requirement already satisfied: gym>=0.17 in /usr/local/lib/python3.7/dist-packages (from finrl==0.3.0) (0.17.3)\n",
            "Collecting stable-baselines3[extra]\n",
            "  Downloading stable_baselines3-1.1.0-py3-none-any.whl (172 kB)\n",
            "\u001b[K     |████████████████████████████████| 172 kB 12.1 MB/s \n",
            "\u001b[?25hRequirement already satisfied: pytest in /usr/local/lib/python3.7/dist-packages (from finrl==0.3.0) (3.6.4)\n",
            "Requirement already satisfied: setuptools>=41.4.0 in /usr/local/lib/python3.7/dist-packages (from finrl==0.3.0) (57.2.0)\n",
            "Requirement already satisfied: wheel>=0.33.6 in /usr/local/lib/python3.7/dist-packages (from finrl==0.3.0) (0.36.2)\n",
            "Requirement already satisfied: ipython>=3.2.3 in /usr/local/lib/python3.7/dist-packages (from pyfolio@ git+https://github.com/quantopian/pyfolio.git#egg=pyfolio-0.9.2->finrl==0.3.0) (5.5.0)\n",
            "Requirement already satisfied: pytz>=2014.10 in /usr/local/lib/python3.7/dist-packages (from pyfolio@ git+https://github.com/quantopian/pyfolio.git#egg=pyfolio-0.9.2->finrl==0.3.0) (2018.9)\n",
            "Requirement already satisfied: scipy>=0.14.0 in /usr/local/lib/python3.7/dist-packages (from pyfolio@ git+https://github.com/quantopian/pyfolio.git#egg=pyfolio-0.9.2->finrl==0.3.0) (1.4.1)\n",
            "Requirement already satisfied: seaborn>=0.7.1 in /usr/local/lib/python3.7/dist-packages (from pyfolio@ git+https://github.com/quantopian/pyfolio.git#egg=pyfolio-0.9.2->finrl==0.3.0) (0.11.1)\n",
            "Collecting empyrical>=0.5.0\n",
            "  Downloading empyrical-0.5.5.tar.gz (52 kB)\n",
            "\u001b[K     |████████████████████████████████| 52 kB 1.7 MB/s \n",
            "\u001b[?25hRequirement already satisfied: pandas-datareader>=0.2 in /usr/local/lib/python3.7/dist-packages (from empyrical>=0.5.0->pyfolio@ git+https://github.com/quantopian/pyfolio.git#egg=pyfolio-0.9.2->finrl==0.3.0) (0.9.0)\n",
            "Requirement already satisfied: cloudpickle<1.7.0,>=1.2.0 in /usr/local/lib/python3.7/dist-packages (from gym>=0.17->finrl==0.3.0) (1.3.0)\n",
            "Requirement already satisfied: pyglet<=1.5.0,>=1.4.0 in /usr/local/lib/python3.7/dist-packages (from gym>=0.17->finrl==0.3.0) (1.5.0)\n",
            "Requirement already satisfied: decorator in /usr/local/lib/python3.7/dist-packages (from ipython>=3.2.3->pyfolio@ git+https://github.com/quantopian/pyfolio.git#egg=pyfolio-0.9.2->finrl==0.3.0) (4.4.2)\n",
            "Requirement already satisfied: prompt-toolkit<2.0.0,>=1.0.4 in /usr/local/lib/python3.7/dist-packages (from ipython>=3.2.3->pyfolio@ git+https://github.com/quantopian/pyfolio.git#egg=pyfolio-0.9.2->finrl==0.3.0) (1.0.18)\n",
            "Requirement already satisfied: simplegeneric>0.8 in /usr/local/lib/python3.7/dist-packages (from ipython>=3.2.3->pyfolio@ git+https://github.com/quantopian/pyfolio.git#egg=pyfolio-0.9.2->finrl==0.3.0) (0.8.1)\n",
            "Requirement already satisfied: pygments in /usr/local/lib/python3.7/dist-packages (from ipython>=3.2.3->pyfolio@ git+https://github.com/quantopian/pyfolio.git#egg=pyfolio-0.9.2->finrl==0.3.0) (2.6.1)\n",
            "Requirement already satisfied: pexpect in /usr/local/lib/python3.7/dist-packages (from ipython>=3.2.3->pyfolio@ git+https://github.com/quantopian/pyfolio.git#egg=pyfolio-0.9.2->finrl==0.3.0) (4.8.0)\n",
            "Requirement already satisfied: traitlets>=4.2 in /usr/local/lib/python3.7/dist-packages (from ipython>=3.2.3->pyfolio@ git+https://github.com/quantopian/pyfolio.git#egg=pyfolio-0.9.2->finrl==0.3.0) (5.0.5)\n",
            "Requirement already satisfied: pickleshare in /usr/local/lib/python3.7/dist-packages (from ipython>=3.2.3->pyfolio@ git+https://github.com/quantopian/pyfolio.git#egg=pyfolio-0.9.2->finrl==0.3.0) (0.7.5)\n",
            "Requirement already satisfied: kiwisolver>=1.0.1 in /usr/local/lib/python3.7/dist-packages (from matplotlib->finrl==0.3.0) (1.3.1)\n",
            "Requirement already satisfied: cycler>=0.10 in /usr/local/lib/python3.7/dist-packages (from matplotlib->finrl==0.3.0) (0.10.0)\n",
            "Requirement already satisfied: python-dateutil>=2.1 in /usr/local/lib/python3.7/dist-packages (from matplotlib->finrl==0.3.0) (2.8.1)\n",
            "Requirement already satisfied: pyparsing!=2.0.4,!=2.1.2,!=2.1.6,>=2.0.1 in /usr/local/lib/python3.7/dist-packages (from matplotlib->finrl==0.3.0) (2.4.7)\n",
            "Requirement already satisfied: six in /usr/local/lib/python3.7/dist-packages (from cycler>=0.10->matplotlib->finrl==0.3.0) (1.15.0)\n",
            "Requirement already satisfied: lxml in /usr/local/lib/python3.7/dist-packages (from pandas-datareader>=0.2->empyrical>=0.5.0->pyfolio@ git+https://github.com/quantopian/pyfolio.git#egg=pyfolio-0.9.2->finrl==0.3.0) (4.2.6)\n",
            "Requirement already satisfied: requests>=2.19.0 in /usr/local/lib/python3.7/dist-packages (from pandas-datareader>=0.2->empyrical>=0.5.0->pyfolio@ git+https://github.com/quantopian/pyfolio.git#egg=pyfolio-0.9.2->finrl==0.3.0) (2.23.0)\n",
            "Requirement already satisfied: wcwidth in /usr/local/lib/python3.7/dist-packages (from prompt-toolkit<2.0.0,>=1.0.4->ipython>=3.2.3->pyfolio@ git+https://github.com/quantopian/pyfolio.git#egg=pyfolio-0.9.2->finrl==0.3.0) (0.2.5)\n",
            "Requirement already satisfied: future in /usr/local/lib/python3.7/dist-packages (from pyglet<=1.5.0,>=1.4.0->gym>=0.17->finrl==0.3.0) (0.16.0)\n",
            "Requirement already satisfied: urllib3!=1.25.0,!=1.25.1,<1.26,>=1.21.1 in /usr/local/lib/python3.7/dist-packages (from requests>=2.19.0->pandas-datareader>=0.2->empyrical>=0.5.0->pyfolio@ git+https://github.com/quantopian/pyfolio.git#egg=pyfolio-0.9.2->finrl==0.3.0) (1.24.3)\n",
            "Requirement already satisfied: chardet<4,>=3.0.2 in /usr/local/lib/python3.7/dist-packages (from requests>=2.19.0->pandas-datareader>=0.2->empyrical>=0.5.0->pyfolio@ git+https://github.com/quantopian/pyfolio.git#egg=pyfolio-0.9.2->finrl==0.3.0) (3.0.4)\n",
            "Requirement already satisfied: idna<3,>=2.5 in /usr/local/lib/python3.7/dist-packages (from requests>=2.19.0->pandas-datareader>=0.2->empyrical>=0.5.0->pyfolio@ git+https://github.com/quantopian/pyfolio.git#egg=pyfolio-0.9.2->finrl==0.3.0) (2.10)\n",
            "Requirement already satisfied: certifi>=2017.4.17 in /usr/local/lib/python3.7/dist-packages (from requests>=2.19.0->pandas-datareader>=0.2->empyrical>=0.5.0->pyfolio@ git+https://github.com/quantopian/pyfolio.git#egg=pyfolio-0.9.2->finrl==0.3.0) (2021.5.30)\n",
            "Requirement already satisfied: joblib>=0.11 in /usr/local/lib/python3.7/dist-packages (from scikit-learn>=0.21.0->finrl==0.3.0) (1.0.1)\n",
            "Requirement already satisfied: ipython-genutils in /usr/local/lib/python3.7/dist-packages (from traitlets>=4.2->ipython>=3.2.3->pyfolio@ git+https://github.com/quantopian/pyfolio.git#egg=pyfolio-0.9.2->finrl==0.3.0) (0.2.0)\n",
            "Requirement already satisfied: ptyprocess>=0.5 in /usr/local/lib/python3.7/dist-packages (from pexpect->ipython>=3.2.3->pyfolio@ git+https://github.com/quantopian/pyfolio.git#egg=pyfolio-0.9.2->finrl==0.3.0) (0.7.0)\n",
            "Requirement already satisfied: atomicwrites>=1.0 in /usr/local/lib/python3.7/dist-packages (from pytest->finrl==0.3.0) (1.4.0)\n",
            "Requirement already satisfied: pluggy<0.8,>=0.5 in /usr/local/lib/python3.7/dist-packages (from pytest->finrl==0.3.0) (0.7.1)\n",
            "Requirement already satisfied: more-itertools>=4.0.0 in /usr/local/lib/python3.7/dist-packages (from pytest->finrl==0.3.0) (8.8.0)\n",
            "Requirement already satisfied: attrs>=17.4.0 in /usr/local/lib/python3.7/dist-packages (from pytest->finrl==0.3.0) (21.2.0)\n",
            "Requirement already satisfied: py>=1.5.0 in /usr/local/lib/python3.7/dist-packages (from pytest->finrl==0.3.0) (1.10.0)\n",
            "Requirement already satisfied: torch>=1.4.0 in /usr/local/lib/python3.7/dist-packages (from stable-baselines3[extra]->finrl==0.3.0) (1.9.0+cu102)\n",
            "Requirement already satisfied: psutil in /usr/local/lib/python3.7/dist-packages (from stable-baselines3[extra]->finrl==0.3.0) (5.4.8)\n",
            "Requirement already satisfied: opencv-python in /usr/local/lib/python3.7/dist-packages (from stable-baselines3[extra]->finrl==0.3.0) (4.1.2.30)\n",
            "Requirement already satisfied: pillow in /usr/local/lib/python3.7/dist-packages (from stable-baselines3[extra]->finrl==0.3.0) (7.1.2)\n",
            "Requirement already satisfied: atari-py~=0.2.0 in /usr/local/lib/python3.7/dist-packages (from stable-baselines3[extra]->finrl==0.3.0) (0.2.9)\n",
            "Requirement already satisfied: tensorboard>=2.2.0 in /usr/local/lib/python3.7/dist-packages (from stable-baselines3[extra]->finrl==0.3.0) (2.5.0)\n",
            "Requirement already satisfied: google-auth<2,>=1.6.3 in /usr/local/lib/python3.7/dist-packages (from tensorboard>=2.2.0->stable-baselines3[extra]->finrl==0.3.0) (1.32.1)\n",
            "Requirement already satisfied: tensorboard-data-server<0.7.0,>=0.6.0 in /usr/local/lib/python3.7/dist-packages (from tensorboard>=2.2.0->stable-baselines3[extra]->finrl==0.3.0) (0.6.1)\n",
            "Requirement already satisfied: tensorboard-plugin-wit>=1.6.0 in /usr/local/lib/python3.7/dist-packages (from tensorboard>=2.2.0->stable-baselines3[extra]->finrl==0.3.0) (1.8.0)\n",
            "Requirement already satisfied: protobuf>=3.6.0 in /usr/local/lib/python3.7/dist-packages (from tensorboard>=2.2.0->stable-baselines3[extra]->finrl==0.3.0) (3.17.3)\n",
            "Requirement already satisfied: absl-py>=0.4 in /usr/local/lib/python3.7/dist-packages (from tensorboard>=2.2.0->stable-baselines3[extra]->finrl==0.3.0) (0.12.0)\n",
            "Requirement already satisfied: google-auth-oauthlib<0.5,>=0.4.1 in /usr/local/lib/python3.7/dist-packages (from tensorboard>=2.2.0->stable-baselines3[extra]->finrl==0.3.0) (0.4.4)\n",
            "Requirement already satisfied: werkzeug>=0.11.15 in /usr/local/lib/python3.7/dist-packages (from tensorboard>=2.2.0->stable-baselines3[extra]->finrl==0.3.0) (1.0.1)\n",
            "Requirement already satisfied: markdown>=2.6.8 in /usr/local/lib/python3.7/dist-packages (from tensorboard>=2.2.0->stable-baselines3[extra]->finrl==0.3.0) (3.3.4)\n",
            "Requirement already satisfied: grpcio>=1.24.3 in /usr/local/lib/python3.7/dist-packages (from tensorboard>=2.2.0->stable-baselines3[extra]->finrl==0.3.0) (1.34.1)\n",
            "Requirement already satisfied: cachetools<5.0,>=2.0.0 in /usr/local/lib/python3.7/dist-packages (from google-auth<2,>=1.6.3->tensorboard>=2.2.0->stable-baselines3[extra]->finrl==0.3.0) (4.2.2)\n",
            "Requirement already satisfied: pyasn1-modules>=0.2.1 in /usr/local/lib/python3.7/dist-packages (from google-auth<2,>=1.6.3->tensorboard>=2.2.0->stable-baselines3[extra]->finrl==0.3.0) (0.2.8)\n",
            "Requirement already satisfied: rsa<5,>=3.1.4 in /usr/local/lib/python3.7/dist-packages (from google-auth<2,>=1.6.3->tensorboard>=2.2.0->stable-baselines3[extra]->finrl==0.3.0) (4.7.2)\n",
            "Requirement already satisfied: requests-oauthlib>=0.7.0 in /usr/local/lib/python3.7/dist-packages (from google-auth-oauthlib<0.5,>=0.4.1->tensorboard>=2.2.0->stable-baselines3[extra]->finrl==0.3.0) (1.3.0)\n",
            "Requirement already satisfied: importlib-metadata in /usr/local/lib/python3.7/dist-packages (from markdown>=2.6.8->tensorboard>=2.2.0->stable-baselines3[extra]->finrl==0.3.0) (4.6.1)\n",
            "Requirement already satisfied: pyasn1<0.5.0,>=0.4.6 in /usr/local/lib/python3.7/dist-packages (from pyasn1-modules>=0.2.1->google-auth<2,>=1.6.3->tensorboard>=2.2.0->stable-baselines3[extra]->finrl==0.3.0) (0.4.8)\n",
            "Requirement already satisfied: oauthlib>=3.0.0 in /usr/local/lib/python3.7/dist-packages (from requests-oauthlib>=0.7.0->google-auth-oauthlib<0.5,>=0.4.1->tensorboard>=2.2.0->stable-baselines3[extra]->finrl==0.3.0) (3.1.1)\n",
            "Requirement already satisfied: typing-extensions in /usr/local/lib/python3.7/dist-packages (from torch>=1.4.0->stable-baselines3[extra]->finrl==0.3.0) (3.7.4.3)\n",
            "Requirement already satisfied: zipp>=0.5 in /usr/local/lib/python3.7/dist-packages (from importlib-metadata->markdown>=2.6.8->tensorboard>=2.2.0->stable-baselines3[extra]->finrl==0.3.0) (3.5.0)\n",
            "Collecting int-date>=0.1.7\n",
            "  Downloading int_date-0.1.8-py2.py3-none-any.whl (5.0 kB)\n",
            "Requirement already satisfied: multitasking>=0.0.7 in /usr/local/lib/python3.7/dist-packages (from yfinance->finrl==0.3.0) (0.0.9)\n",
            "Collecting lxml\n",
            "  Downloading lxml-4.6.3-cp37-cp37m-manylinux2014_x86_64.whl (6.3 MB)\n",
            "\u001b[K     |████████████████████████████████| 6.3 MB 55.3 MB/s \n",
            "\u001b[?25hBuilding wheels for collected packages: finrl, pyfolio, empyrical, yfinance\n",
            "  Building wheel for finrl (setup.py) ... \u001b[?25l\u001b[?25hdone\n",
            "  Created wheel for finrl: filename=finrl-0.3.0-py3-none-any.whl size=62457 sha256=bb011aae73cbabec59213df165beeb1496239b0181c07a533364c0702da38221\n",
            "  Stored in directory: /tmp/pip-ephem-wheel-cache-nbxdk720/wheels/17/ff/bd/1bc602a0352762b0b24041b88536d803ae343ed0a711fcf55e\n",
            "  Building wheel for pyfolio (setup.py) ... \u001b[?25l\u001b[?25hdone\n",
            "  Created wheel for pyfolio: filename=pyfolio-0.9.2+75.g4b901f6-py3-none-any.whl size=75773 sha256=ce8d7f4d173be46325af5f707820a3791f60393928d22d22d304646d9dee845f\n",
            "  Stored in directory: /tmp/pip-ephem-wheel-cache-nbxdk720/wheels/ef/09/e5/2c1bf37c050d22557c080deb1be986d06424627c04aeca19b9\n",
            "  Building wheel for empyrical (setup.py) ... \u001b[?25l\u001b[?25hdone\n",
            "  Created wheel for empyrical: filename=empyrical-0.5.5-py3-none-any.whl size=39779 sha256=fd7ce51755805f68fe609eb3aca901069e448e614b7b696e3c1486f8f509d215\n",
            "  Stored in directory: /root/.cache/pip/wheels/d9/91/4b/654fcff57477efcf149eaca236da2fce991526cbab431bf312\n",
            "  Building wheel for yfinance (setup.py) ... \u001b[?25l\u001b[?25hdone\n",
            "  Created wheel for yfinance: filename=yfinance-0.1.63-py2.py3-none-any.whl size=23919 sha256=f54c6511c657a7da3b1c5ba4a30ff91d78eb2f4bb29a00b4232a9386c3992cae\n",
            "  Stored in directory: /root/.cache/pip/wheels/fe/87/8b/7ec24486e001d3926537f5f7801f57a74d181be25b11157983\n",
            "Successfully built finrl pyfolio empyrical yfinance\n",
            "Installing collected packages: lxml, stable-baselines3, int-date, empyrical, yfinance, stockstats, pyfolio, finrl\n",
            "  Attempting uninstall: lxml\n",
            "    Found existing installation: lxml 4.2.6\n",
            "    Uninstalling lxml-4.2.6:\n",
            "      Successfully uninstalled lxml-4.2.6\n",
            "Successfully installed empyrical-0.5.5 finrl-0.3.0 int-date-0.1.8 lxml-4.6.3 pyfolio-0.9.2+75.g4b901f6 stable-baselines3-1.1.0 stockstats-0.3.2 yfinance-0.1.63\n"
          ],
          "name": "stdout"
        }
      ]
    },
    {
      "cell_type": "code",
      "metadata": {
        "colab": {
          "base_uri": "https://localhost:8080/"
        },
        "id": "9c7TFaDgP0tz",
        "outputId": "f9cf9be5-4333-47d6-8ee2-bee3ad458ce4"
      },
      "source": [
        "#for data download part -- yahoo finance\n",
        "!pip install yfinance"
      ],
      "execution_count": 2,
      "outputs": [
        {
          "output_type": "stream",
          "text": [
            "Requirement already satisfied: yfinance in /usr/local/lib/python3.7/dist-packages (0.1.63)\n",
            "Requirement already satisfied: lxml>=4.5.1 in /usr/local/lib/python3.7/dist-packages (from yfinance) (4.6.3)\n",
            "Requirement already satisfied: pandas>=0.24 in /usr/local/lib/python3.7/dist-packages (from yfinance) (1.1.5)\n",
            "Requirement already satisfied: numpy>=1.15 in /usr/local/lib/python3.7/dist-packages (from yfinance) (1.19.5)\n",
            "Requirement already satisfied: requests>=2.20 in /usr/local/lib/python3.7/dist-packages (from yfinance) (2.23.0)\n",
            "Requirement already satisfied: multitasking>=0.0.7 in /usr/local/lib/python3.7/dist-packages (from yfinance) (0.0.9)\n",
            "Requirement already satisfied: python-dateutil>=2.7.3 in /usr/local/lib/python3.7/dist-packages (from pandas>=0.24->yfinance) (2.8.1)\n",
            "Requirement already satisfied: pytz>=2017.2 in /usr/local/lib/python3.7/dist-packages (from pandas>=0.24->yfinance) (2018.9)\n",
            "Requirement already satisfied: six>=1.5 in /usr/local/lib/python3.7/dist-packages (from python-dateutil>=2.7.3->pandas>=0.24->yfinance) (1.15.0)\n",
            "Requirement already satisfied: idna<3,>=2.5 in /usr/local/lib/python3.7/dist-packages (from requests>=2.20->yfinance) (2.10)\n",
            "Requirement already satisfied: certifi>=2017.4.17 in /usr/local/lib/python3.7/dist-packages (from requests>=2.20->yfinance) (2021.5.30)\n",
            "Requirement already satisfied: chardet<4,>=3.0.2 in /usr/local/lib/python3.7/dist-packages (from requests>=2.20->yfinance) (3.0.4)\n",
            "Requirement already satisfied: urllib3!=1.25.0,!=1.25.1,<1.26,>=1.21.1 in /usr/local/lib/python3.7/dist-packages (from requests>=2.20->yfinance) (1.24.3)\n"
          ],
          "name": "stdout"
        }
      ]
    },
    {
      "cell_type": "code",
      "metadata": {
        "colab": {
          "base_uri": "https://localhost:8080/"
        },
        "id": "n2z2KVnvFzVU",
        "outputId": "fa39a1f3-070a-4be5-9eef-d0e95a01dfc1"
      },
      "source": [
        "import pandas as pd\n",
        "import numpy as np\n",
        "import matplotlib\n",
        "import matplotlib.pyplot as plt\n",
        "from sklearn import preprocessing\n",
        "\n",
        "matplotlib.use(\"Agg\")\n",
        "import datetime\n",
        "\n",
        "from finrl.apps import config\n",
        "from finrl.neo_finrl.preprocessor.yahoodownloader import YahooDownloader\n",
        "from finrl.neo_finrl.preprocessor.preprocessors import FeatureEngineer, data_split\n",
        "from finrl.neo_finrl.env_stock_trading.env_stocktrading import StockTradingEnv\n",
        "from finrl.drl_agents.stablebaselines3.models import DRLAgent\n",
        "from finrl.plot import backtest_stats, backtest_plot, get_daily_return, get_baseline\n",
        "\n",
        "import itertools\n"
      ],
      "execution_count": 3,
      "outputs": [
        {
          "output_type": "stream",
          "text": [
            "/usr/local/lib/python3.7/dist-packages/pyfolio/pos.py:27: UserWarning: Module \"zipline.assets\" not found; multipliers will not be applied to position notionals.\n",
            "  'Module \"zipline.assets\" not found; multipliers will not be applied'\n"
          ],
          "name": "stderr"
        }
      ]
    },
    {
      "cell_type": "code",
      "metadata": {
        "id": "nO5he-wkQGTY"
      },
      "source": [
        "import pandas as pd\n",
        "import yfinance as yf"
      ],
      "execution_count": 4,
      "outputs": []
    },
    {
      "cell_type": "markdown",
      "metadata": {
        "id": "sYWd7vHeF3s4"
      },
      "source": [
        "#Collect Data"
      ]
    },
    {
      "cell_type": "code",
      "metadata": {
        "colab": {
          "base_uri": "https://localhost:8080/"
        },
        "id": "GJgXCpolE8Vo",
        "outputId": "6a7f3470-f3a8-401c-eba0-5c31cd64a519"
      },
      "source": [
        "stockList = [\"AKBNK.IS\",\"ARCLK.IS\",\"ASELS.IS\",\"BIMAS.IS\",\"DOHOL.IS\",\"EKGYO.IS\",\"EREGL.IS\",\"FROTO.IS\",\"GARAN.IS\",\"GUBRF.IS\",\"HALKB.IS\",\"ISCTR.IS\",\"KCHOL.IS\",\"KOZAA.IS\",\"KOZAL.IS\",\n",
        "\"KRDMD.IS\",\"PETKM.IS\",\"PGSUS.IS\",\"SAHOL.IS\",\"SASA.IS\",\"SISE.IS\",\"TAVHL.IS\",\"TCELL.IS\",\"THYAO.IS\",\"TKFEN.IS\",\"TTKOM.IS\",\"TUPRS.IS\",\"VAKBN.IS\",\"VESTL.IS\",\"YKBNK.IS\"]\n",
        "len(stockList)"
      ],
      "execution_count": 5,
      "outputs": [
        {
          "output_type": "execute_result",
          "data": {
            "text/plain": [
              "30"
            ]
          },
          "metadata": {
            "tags": []
          },
          "execution_count": 5
        }
      ]
    },
    {
      "cell_type": "code",
      "metadata": {
        "id": "XtEiXYRmFavP"
      },
      "source": [
        "# print(\"==============Start Fetching Data===========\")\n",
        "# df = YahooDownloader(\n",
        "#     start_date=config.START_DATE,\n",
        "#     end_date=config.END_DATE,\n",
        "#     ticker_list=stockList,\n",
        "# ).fetch_data()"
      ],
      "execution_count": 6,
      "outputs": []
    },
    {
      "cell_type": "code",
      "metadata": {
        "id": "vQ7o_1gfPu16"
      },
      "source": [
        "tickers = [\"VESTL.IS\",\"VAKBN.IS\",\"TUPRS.IS\"\"THYAO.IS\",\"HALKB.IS\",\"SASA.IS\",\"PETKM.IS\",\"SAHOL.IS\",\"PGSUS.IS\",\"GARAN.IS\",\"AKBNK.IS\",\"ARCLK.IS\",\"BIMAS.IS\",\"EREGL.IS\"] # 20 tane hisse\n"
      ],
      "execution_count": 7,
      "outputs": []
    },
    {
      "cell_type": "code",
      "metadata": {
        "colab": {
          "base_uri": "https://localhost:8080/"
        },
        "id": "khsvRDHlPo0N",
        "outputId": "ca6de253-3623-45c0-cc67-87accdb005cd"
      },
      "source": [
        "date1=\"2015-07-27\"\n",
        "date2=\"2021-07-28\"\n",
        "list_data = []\n",
        "for ticker in tickers:\n",
        "  data = yf.download(tickers=ticker , start=date1, end=date2, interval='1d' )\n",
        "  data[\"tic\"] = ticker\n",
        "  data[\"date\"] = data.index\n",
        "  data = data.reset_index()\n",
        "  list_data.append(data)"
      ],
      "execution_count": 8,
      "outputs": [
        {
          "output_type": "stream",
          "text": [
            "[*********************100%***********************]  1 of 1 completed\n",
            "[*********************100%***********************]  1 of 1 completed\n",
            "[*********************100%***********************]  1 of 1 completed\n",
            "\n",
            "1 Failed download:\n",
            "- TUPRS.ISTHYAO.IS: No data found, symbol may be delisted\n",
            "[*********************100%***********************]  1 of 1 completed\n",
            "[*********************100%***********************]  1 of 1 completed\n",
            "[*********************100%***********************]  1 of 1 completed\n",
            "[*********************100%***********************]  1 of 1 completed\n",
            "[*********************100%***********************]  1 of 1 completed\n",
            "[*********************100%***********************]  1 of 1 completed\n",
            "[*********************100%***********************]  1 of 1 completed\n",
            "[*********************100%***********************]  1 of 1 completed\n",
            "[*********************100%***********************]  1 of 1 completed\n",
            "[*********************100%***********************]  1 of 1 completed\n"
          ],
          "name": "stdout"
        }
      ]
    },
    {
      "cell_type": "code",
      "metadata": {
        "colab": {
          "base_uri": "https://localhost:8080/"
        },
        "id": "sSN5qYAnQJFo",
        "outputId": "92dcefd6-2f22-4e66-98c6-49dbe7bad835"
      },
      "source": [
        "list_data"
      ],
      "execution_count": 9,
      "outputs": [
        {
          "output_type": "execute_result",
          "data": {
            "text/plain": [
              "[           Date       Open       High  ...   Volume       tic       date\n",
              " 0    2015-07-27   4.450000   4.450000  ...  1074220  VESTL.IS 2015-07-27\n",
              " 1    2015-07-28   4.450000   4.470000  ...  1609540  VESTL.IS 2015-07-28\n",
              " 2    2015-07-29   4.430000   4.460000  ...   981396  VESTL.IS 2015-07-29\n",
              " 3    2015-07-30   4.480000   4.490000  ...   871776  VESTL.IS 2015-07-30\n",
              " 4    2015-07-31   4.480000   4.650000  ...  6003500  VESTL.IS 2015-07-31\n",
              " ...         ...        ...        ...  ...      ...       ...        ...\n",
              " 1526 2021-07-14  30.420000  31.440001  ...  2070274  VESTL.IS 2021-07-14\n",
              " 1527 2021-07-16  31.420000  31.620001  ...  1660750  VESTL.IS 2021-07-16\n",
              " 1528 2021-07-19  31.400000  32.160000  ...  1369061  VESTL.IS 2021-07-19\n",
              " 1529 2021-07-26  32.200001  32.279999  ...  2489134  VESTL.IS 2021-07-26\n",
              " 1530 2021-07-27  31.980000  32.099998  ...  1726049  VESTL.IS 2021-07-27\n",
              " \n",
              " [1531 rows x 9 columns],\n",
              "            Date  Open  High   Low  ...  Adj Close    Volume       tic       date\n",
              " 0    2015-07-27  3.98  3.99  3.91  ...   3.771631  25667170  VAKBN.IS 2015-07-27\n",
              " 1    2015-07-28  4.05  4.07  4.00  ...   3.828921  25623521  VAKBN.IS 2015-07-28\n",
              " 2    2015-07-29  4.01  4.05  3.99  ...   3.828921  18304164  VAKBN.IS 2015-07-29\n",
              " 3    2015-07-30  4.00  4.05  4.00  ...   3.857567  26398992  VAKBN.IS 2015-07-30\n",
              " 4    2015-07-31  4.10  4.21  4.08  ...   3.991245  45031104  VAKBN.IS 2015-07-31\n",
              " ...         ...   ...   ...   ...  ...        ...       ...       ...        ...\n",
              " 1526 2021-07-14  3.49  3.52  3.49  ...   3.510000  17519629  VAKBN.IS 2021-07-14\n",
              " 1527 2021-07-16  3.51  3.52  3.47  ...   3.490000  20696556  VAKBN.IS 2021-07-16\n",
              " 1528 2021-07-19  3.47  3.48  3.45  ...   3.470000   7291339  VAKBN.IS 2021-07-19\n",
              " 1529 2021-07-26  3.48  3.48  3.42  ...   3.430000  23918658  VAKBN.IS 2021-07-26\n",
              " 1530 2021-07-27  3.43  3.44  3.39  ...   3.420000  30871452  VAKBN.IS 2021-07-27\n",
              " \n",
              " [1531 rows x 9 columns],\n",
              " Empty DataFrame\n",
              " Columns: [Date, Open, High, Low, Close, Adj Close, Volume, tic, date]\n",
              " Index: [],\n",
              "            Date   Open   High    Low  ...  Adj Close    Volume       tic       date\n",
              " 0    2015-07-27  11.60  11.60  11.35  ...   9.993502  12722440  HALKB.IS 2015-07-27\n",
              " 1    2015-07-28  11.65  11.75  11.55  ...  10.168827   8075382  HALKB.IS 2015-07-28\n",
              " 2    2015-07-29  11.60  11.65  11.55  ...  10.124996   9403495  HALKB.IS 2015-07-29\n",
              " 3    2015-07-30  11.55  11.70  11.55  ...  10.212658   6598200  HALKB.IS 2015-07-30\n",
              " 4    2015-07-31  11.90  12.10  11.80  ...  10.607139  12971369  HALKB.IS 2015-07-31\n",
              " ...         ...    ...    ...    ...  ...        ...       ...       ...        ...\n",
              " 1526 2021-07-14   4.80   4.85   4.78  ...   4.800000  25167273  HALKB.IS 2021-07-14\n",
              " 1527 2021-07-16   4.81   4.81   4.73  ...   4.750000  16806598  HALKB.IS 2021-07-16\n",
              " 1528 2021-07-19   4.73   4.73   4.68  ...   4.710000   8458886  HALKB.IS 2021-07-19\n",
              " 1529 2021-07-26   4.72   4.73   4.59  ...   4.600000  20509807  HALKB.IS 2021-07-26\n",
              " 1530 2021-07-27   4.62   4.62   4.52  ...   4.570000  34784457  HALKB.IS 2021-07-27\n",
              " \n",
              " [1531 rows x 9 columns],\n",
              "            Date       Open       High  ...    Volume      tic       date\n",
              " 0    2015-07-27   0.484744   0.484744  ...   8762131  SASA.IS 2015-07-27\n",
              " 1    2015-07-28   0.482812   0.484744  ...    833982  SASA.IS 2015-07-28\n",
              " 2    2015-07-29   0.482812   0.484744  ...   1151191  SASA.IS 2015-07-29\n",
              " 3    2015-07-30   0.484744   0.484744  ...   2324844  SASA.IS 2015-07-30\n",
              " 4    2015-07-31   0.482812   0.484744  ...   8567780  SASA.IS 2015-07-31\n",
              " ...         ...        ...        ...  ...       ...      ...        ...\n",
              " 1526 2021-07-14  28.340000  31.160000  ...  67066823  SASA.IS 2021-07-14\n",
              " 1527 2021-07-16  31.400000  32.619999  ...  48306913  SASA.IS 2021-07-16\n",
              " 1528 2021-07-19  30.160000  30.500000  ...  13988297  SASA.IS 2021-07-19\n",
              " 1529 2021-07-26  30.200001  31.139999  ...  17714297  SASA.IS 2021-07-26\n",
              " 1530 2021-07-27  29.680000  30.299999  ...  15605997  SASA.IS 2021-07-27\n",
              " \n",
              " [1531 rows x 9 columns],\n",
              "            Date      Open      High  ...    Volume       tic       date\n",
              " 0    2015-07-27  1.542771  1.554608  ...   5338011  PETKM.IS 2015-07-27\n",
              " 1    2015-07-28  1.574337  1.598011  ...   6779284  PETKM.IS 2015-07-28\n",
              " 2    2015-07-29  1.578282  1.598011  ...   3475080  PETKM.IS 2015-07-29\n",
              " 3    2015-07-30  1.601957  1.613794  ...   2206996  PETKM.IS 2015-07-30\n",
              " 4    2015-07-31  1.617739  1.641414  ...   6588471  PETKM.IS 2015-07-31\n",
              " ...         ...       ...       ...  ...       ...       ...        ...\n",
              " 1526 2021-07-14  5.250000  5.350000  ...  51112532  PETKM.IS 2021-07-14\n",
              " 1527 2021-07-16  5.330000  5.340000  ...  43285146  PETKM.IS 2021-07-16\n",
              " 1528 2021-07-19  5.300000  5.340000  ...  10183498  PETKM.IS 2021-07-19\n",
              " 1529 2021-07-26  5.300000  5.460000  ...  93990239  PETKM.IS 2021-07-26\n",
              " 1530 2021-07-27  5.430000  5.580000  ...  89562090  PETKM.IS 2021-07-27\n",
              " \n",
              " [1531 rows x 9 columns],\n",
              "            Date  Open  High   Low  ...  Adj Close    Volume       tic       date\n",
              " 0    2015-07-27  9.30  9.30  9.21  ...   7.693565   1777047  SAHOL.IS 2015-07-27\n",
              " 1    2015-07-28  9.39  9.43  9.28  ...   7.693565   2754435  SAHOL.IS 2015-07-28\n",
              " 2    2015-07-29  9.27  9.33  9.26  ...   7.676986   1570648  SAHOL.IS 2015-07-29\n",
              " 3    2015-07-30  9.25  9.34  9.23  ...   7.676986   1780702  SAHOL.IS 2015-07-30\n",
              " 4    2015-07-31  9.30  9.48  9.27  ...   7.859375   5331811  SAHOL.IS 2015-07-31\n",
              " ...         ...   ...   ...   ...  ...        ...       ...       ...        ...\n",
              " 1526 2021-07-14  8.92  9.06  8.92  ...   8.980000   7436232  SAHOL.IS 2021-07-14\n",
              " 1527 2021-07-16  9.03  9.07  8.95  ...   8.990000   8587964  SAHOL.IS 2021-07-16\n",
              " 1528 2021-07-19  8.97  8.98  8.87  ...   8.980000   4403872  SAHOL.IS 2021-07-19\n",
              " 1529 2021-07-26  8.99  9.11  8.95  ...   9.060000  22827178  SAHOL.IS 2021-07-26\n",
              " 1530 2021-07-27  9.07  9.30  9.02  ...   9.290000  17634418  SAHOL.IS 2021-07-27\n",
              " \n",
              " [1531 rows x 9 columns],\n",
              "            Date       Open       High  ...   Volume       tic       date\n",
              " 0    2015-07-27  23.850000  23.950001  ...   197137  PGSUS.IS 2015-07-27\n",
              " 1    2015-07-28  23.950001  24.150000  ...   232988  PGSUS.IS 2015-07-28\n",
              " 2    2015-07-29  24.150000  24.350000  ...   161055  PGSUS.IS 2015-07-29\n",
              " 3    2015-07-30  24.200001  24.250000  ...    84304  PGSUS.IS 2015-07-30\n",
              " 4    2015-07-31  24.250000  24.400000  ...   471074  PGSUS.IS 2015-07-31\n",
              " ...         ...        ...        ...  ...      ...       ...        ...\n",
              " 1526 2021-07-14  71.900002  73.050003  ...  1356884  PGSUS.IS 2021-07-14\n",
              " 1527 2021-07-16  72.449997  73.550003  ...  1386088  PGSUS.IS 2021-07-16\n",
              " 1528 2021-07-19  71.300003  71.300003  ...   461230  PGSUS.IS 2021-07-19\n",
              " 1529 2021-07-26  70.500000  70.550003  ...  1667312  PGSUS.IS 2021-07-26\n",
              " 1530 2021-07-27  67.699997  71.949997  ...  3505926  PGSUS.IS 2021-07-27\n",
              " \n",
              " [1531 rows x 9 columns],\n",
              "            Date  Open  High   Low  ...  Adj Close     Volume       tic       date\n",
              " 0    2015-07-27  7.90  7.91  7.74  ...   6.942376   63095366  GARAN.IS 2015-07-27\n",
              " 1    2015-07-28  7.89  7.93  7.81  ...   6.996054   53112132  GARAN.IS 2015-07-28\n",
              " 2    2015-07-29  7.83  7.92  7.83  ...   7.022892   41248011  GARAN.IS 2015-07-29\n",
              " 3    2015-07-30  7.89  7.96  7.84  ...   7.031839   50548714  GARAN.IS 2015-07-30\n",
              " 4    2015-07-31  8.03  8.20  8.01  ...   7.336015   54851191  GARAN.IS 2015-07-31\n",
              " ...         ...   ...   ...   ...  ...        ...        ...       ...        ...\n",
              " 1526 2021-07-14  8.46  8.54  8.42  ...   8.430000  126804095  GARAN.IS 2021-07-14\n",
              " 1527 2021-07-16  8.47  8.48  8.33  ...   8.350000   68323838  GARAN.IS 2021-07-16\n",
              " 1528 2021-07-19  8.31  8.36  8.25  ...   8.270000   26677556  GARAN.IS 2021-07-19\n",
              " 1529 2021-07-26  8.28  8.31  8.04  ...   8.150000  139400809  GARAN.IS 2021-07-26\n",
              " 1530 2021-07-27  8.12  8.23  8.10  ...   8.200000  106196993  GARAN.IS 2021-07-27\n",
              " \n",
              " [1531 rows x 9 columns],\n",
              "            Date      Open      High  ...    Volume       tic       date\n",
              " 0    2015-07-27  6.182181  6.182181  ...  13466375  AKBNK.IS 2015-07-27\n",
              " 1    2015-07-28  6.250777  6.276500  ...  17658020  AKBNK.IS 2015-07-28\n",
              " 2    2015-07-29  6.173606  6.233628  ...  18089311  AKBNK.IS 2015-07-29\n",
              " 3    2015-07-30  6.207904  6.259351  ...  14025453  AKBNK.IS 2015-07-30\n",
              " 4    2015-07-31  6.276500  6.362244  ...  31359086  AKBNK.IS 2015-07-31\n",
              " ...         ...       ...       ...  ...       ...       ...        ...\n",
              " 1526 2021-07-14  5.250000  5.340000  ...  39226963  AKBNK.IS 2021-07-14\n",
              " 1527 2021-07-16  5.320000  5.330000  ...  37367793  AKBNK.IS 2021-07-16\n",
              " 1528 2021-07-19  5.210000  5.210000  ...  22137529  AKBNK.IS 2021-07-19\n",
              " 1529 2021-07-26  5.180000  5.190000  ...  38462720  AKBNK.IS 2021-07-26\n",
              " 1530 2021-07-27  5.120000  5.160000  ...  52530424  AKBNK.IS 2021-07-27\n",
              " \n",
              " [1531 rows x 9 columns],\n",
              "            Date       Open       High  ...    Volume       tic       date\n",
              " 0    2015-07-27  14.750000  14.950000  ...   1976842  ARCLK.IS 2015-07-27\n",
              " 1    2015-07-28  14.850000  14.850000  ...    748123  ARCLK.IS 2015-07-28\n",
              " 2    2015-07-29  14.500000  14.750000  ...    948935  ARCLK.IS 2015-07-29\n",
              " 3    2015-07-30  14.700000  14.700000  ...    717364  ARCLK.IS 2015-07-30\n",
              " 4    2015-07-31  14.550000  14.600000  ...   2149328  ARCLK.IS 2015-07-31\n",
              " ...         ...        ...        ...  ...       ...       ...        ...\n",
              " 1526 2021-07-14  32.400002  33.060001  ...   6542031  ARCLK.IS 2021-07-14\n",
              " 1527 2021-07-16  32.700001  33.639999  ...  10972924  ARCLK.IS 2021-07-16\n",
              " 1528 2021-07-19  33.259998  33.320000  ...   2732884  ARCLK.IS 2021-07-19\n",
              " 1529 2021-07-26  32.759998  32.939999  ...   7127705  ARCLK.IS 2021-07-26\n",
              " 1530 2021-07-27  32.560001  32.860001  ...   5319798  ARCLK.IS 2021-07-27\n",
              " \n",
              " [1531 rows x 9 columns],\n",
              "            Date       Open       High  ...   Volume       tic       date\n",
              " 0    2015-07-27  23.525000  23.799999  ...   628882  BIMAS.IS 2015-07-27\n",
              " 1    2015-07-28  23.825001  23.850000  ...   418338  BIMAS.IS 2015-07-28\n",
              " 2    2015-07-29  23.674999  23.850000  ...   436998  BIMAS.IS 2015-07-29\n",
              " 3    2015-07-30  23.575001  23.625000  ...   327304  BIMAS.IS 2015-07-30\n",
              " 4    2015-07-31  23.450001  23.600000  ...   867592  BIMAS.IS 2015-07-31\n",
              " ...         ...        ...        ...  ...      ...       ...        ...\n",
              " 1526 2021-07-14  61.349998  62.099998  ...  2187795  BIMAS.IS 2021-07-14\n",
              " 1527 2021-07-16  61.650002  62.450001  ...  2092767  BIMAS.IS 2021-07-16\n",
              " 1528 2021-07-19  61.500000  61.549999  ...   842871  BIMAS.IS 2021-07-19\n",
              " 1529 2021-07-26  61.200001  62.049999  ...  2520307  BIMAS.IS 2021-07-26\n",
              " 1530 2021-07-27  61.150002  61.750000  ...  1833752  BIMAS.IS 2021-07-27\n",
              " \n",
              " [1531 rows x 9 columns],\n",
              "            Date       Open       High  ...    Volume       tic       date\n",
              " 0    2015-07-27   3.990000   4.040000  ...   6776403  EREGL.IS 2015-07-27\n",
              " 1    2015-07-28   4.010000   4.060000  ...   5295916  EREGL.IS 2015-07-28\n",
              " 2    2015-07-29   4.020000   4.190000  ...  14281481  EREGL.IS 2015-07-29\n",
              " 3    2015-07-30   4.100000   4.170000  ...   8511044  EREGL.IS 2015-07-30\n",
              " 4    2015-07-31   4.230000   4.250000  ...  16255837  EREGL.IS 2015-07-31\n",
              " ...         ...        ...        ...  ...       ...       ...        ...\n",
              " 1526 2021-07-14  17.990000  18.400000  ...  19197906  EREGL.IS 2021-07-14\n",
              " 1527 2021-07-16  18.250000  18.250000  ...  17163796  EREGL.IS 2021-07-16\n",
              " 1528 2021-07-19  18.000000  18.030001  ...   5709839  EREGL.IS 2021-07-19\n",
              " 1529 2021-07-26  18.040001  18.250000  ...  23665915  EREGL.IS 2021-07-26\n",
              " 1530 2021-07-27  18.070000  18.490000  ...  25081610  EREGL.IS 2021-07-27\n",
              " \n",
              " [1531 rows x 9 columns]]"
            ]
          },
          "metadata": {
            "tags": []
          },
          "execution_count": 9
        }
      ]
    },
    {
      "cell_type": "code",
      "metadata": {
        "id": "Qz4JH8c7QN6X"
      },
      "source": [
        "import pandas as pd\n",
        "df = pd.concat(list_data)\n",
        "\n",
        "del df['Date']"
      ],
      "execution_count": 10,
      "outputs": []
    },
    {
      "cell_type": "code",
      "metadata": {
        "colab": {
          "base_uri": "https://localhost:8080/"
        },
        "id": "SfT90X_dQSoz",
        "outputId": "5a9cbb82-35dd-42d7-e19d-80b4db842c15"
      },
      "source": [
        "\n",
        "df.isna().sum()\n",
        "multi_ticker_df = df.ffill().bfill()\n",
        "print(multi_ticker_df)"
      ],
      "execution_count": 11,
      "outputs": [
        {
          "output_type": "stream",
          "text": [
            "           Open       High        Low  ...      Volume       tic       date\n",
            "0      4.450000   4.450000   4.330000  ...   1074220.0  VESTL.IS 2015-07-27\n",
            "1      4.450000   4.470000   4.370000  ...   1609540.0  VESTL.IS 2015-07-28\n",
            "2      4.430000   4.460000   4.410000  ...    981396.0  VESTL.IS 2015-07-29\n",
            "3      4.480000   4.490000   4.430000  ...    871776.0  VESTL.IS 2015-07-30\n",
            "4      4.480000   4.650000   4.480000  ...   6003500.0  VESTL.IS 2015-07-31\n",
            "...         ...        ...        ...  ...         ...       ...        ...\n",
            "1526  17.990000  18.400000  17.990000  ...  19197906.0  EREGL.IS 2021-07-14\n",
            "1527  18.250000  18.250000  17.910000  ...  17163796.0  EREGL.IS 2021-07-16\n",
            "1528  18.000000  18.030001  17.850000  ...   5709839.0  EREGL.IS 2021-07-19\n",
            "1529  18.040001  18.250000  18.000000  ...  23665915.0  EREGL.IS 2021-07-26\n",
            "1530  18.070000  18.490000  17.969999  ...  25081610.0  EREGL.IS 2021-07-27\n",
            "\n",
            "[18372 rows x 8 columns]\n"
          ],
          "name": "stdout"
        }
      ]
    },
    {
      "cell_type": "code",
      "metadata": {
        "id": "YI-VojbFF5Ti"
      },
      "source": [
        "# print(\"==============Start Fetching Data===========\")\n",
        "# df_ = YahooDownloader(\n",
        "#     start_date=config.START_DATE,\n",
        "#     end_date=config.END_DATE,\n",
        "#     ticker_list=config.DOW_30_TICKER,\n",
        "# ).fetch_data()"
      ],
      "execution_count": 12,
      "outputs": []
    },
    {
      "cell_type": "code",
      "metadata": {
        "colab": {
          "base_uri": "https://localhost:8080/"
        },
        "id": "vEH19X_OFJ6E",
        "outputId": "96e0d1c3-90a8-496e-b609-b18360fa805a"
      },
      "source": [
        "type(multi_ticker_df)"
      ],
      "execution_count": 13,
      "outputs": [
        {
          "output_type": "execute_result",
          "data": {
            "text/plain": [
              "pandas.core.frame.DataFrame"
            ]
          },
          "metadata": {
            "tags": []
          },
          "execution_count": 13
        }
      ]
    },
    {
      "cell_type": "code",
      "metadata": {
        "colab": {
          "base_uri": "https://localhost:8080/"
        },
        "id": "1x4yDDi2GeQI",
        "outputId": "2651700d-3e9e-42d0-c12f-a0b40bf3b89b"
      },
      "source": [
        "multi_ticker_df.columns= multi_ticker_df.columns.str.strip().str.lower()\n",
        "multi_ticker_df.columns"
      ],
      "execution_count": 14,
      "outputs": [
        {
          "output_type": "execute_result",
          "data": {
            "text/plain": [
              "Index(['open', 'high', 'low', 'close', 'adj close', 'volume', 'tic', 'date'], dtype='object')"
            ]
          },
          "metadata": {
            "tags": []
          },
          "execution_count": 14
        }
      ]
    },
    {
      "cell_type": "code",
      "metadata": {
        "colab": {
          "base_uri": "https://localhost:8080/"
        },
        "id": "QUsLjSCWUkLN",
        "outputId": "f386cb42-c404-4e5a-8015-ddeece83c04b"
      },
      "source": [
        "def prefill(multi_ticker_df)  :\n",
        "    df = multi_ticker_df.copy()\n",
        "    df=df.sort_values(['date','tic'],ignore_index=True)\n",
        "    df.index = df.date.factorize()[0]\n",
        "    merged_closes = df.pivot_table(index = 'date',columns = 'tic', values = 'close')\n",
        "\n",
        "    print(merged_closes.isna().sum())\n",
        "    merged_closes = merged_closes.ffill().bfill()\n",
        "\n",
        "    # print(merged_closes.isna().sum())\n",
        "    # print(merged_closes)\n",
        "    tics = merged_closes.columns\n",
        "    df = df[df.tic.isin(tics)]\n",
        "    df = df.reset_index()\n",
        "    del df['index']\n",
        "    return df\n",
        "multiticker_df = prefill(multi_ticker_df)\n"
      ],
      "execution_count": 15,
      "outputs": [
        {
          "output_type": "stream",
          "text": [
            "tic\n",
            "AKBNK.IS    0\n",
            "ARCLK.IS    0\n",
            "BIMAS.IS    0\n",
            "EREGL.IS    0\n",
            "GARAN.IS    0\n",
            "HALKB.IS    0\n",
            "PETKM.IS    0\n",
            "PGSUS.IS    0\n",
            "SAHOL.IS    0\n",
            "SASA.IS     0\n",
            "VAKBN.IS    0\n",
            "VESTL.IS    0\n",
            "dtype: int64\n"
          ],
          "name": "stdout"
        }
      ]
    },
    {
      "cell_type": "code",
      "metadata": {
        "colab": {
          "base_uri": "https://localhost:8080/"
        },
        "id": "yWAndIjfXdYh",
        "outputId": "9a0b25a6-d9ec-448a-cf48-9503e2855b5c"
      },
      "source": [
        "print(multiticker_df)"
      ],
      "execution_count": 16,
      "outputs": [
        {
          "output_type": "stream",
          "text": [
            "            open       high        low  ...      volume       tic       date\n",
            "0       6.182181   6.182181   6.122160  ...  13466375.0  AKBNK.IS 2015-07-27\n",
            "1      14.750000  14.950000  14.500000  ...   1976842.0  ARCLK.IS 2015-07-27\n",
            "2      23.525000  23.799999  23.325001  ...    628882.0  BIMAS.IS 2015-07-27\n",
            "3       3.990000   4.040000   3.960000  ...   6776403.0  EREGL.IS 2015-07-27\n",
            "4       7.900000   7.910000   7.740000  ...  63095366.0  GARAN.IS 2015-07-27\n",
            "...          ...        ...        ...  ...         ...       ...        ...\n",
            "18367  67.699997  71.949997  67.199997  ...   3505926.0  PGSUS.IS 2021-07-27\n",
            "18368   9.070000   9.300000   9.020000  ...  17634418.0  SAHOL.IS 2021-07-27\n",
            "18369  29.680000  30.299999  29.340000  ...  15605997.0   SASA.IS 2021-07-27\n",
            "18370   3.430000   3.440000   3.390000  ...  30871452.0  VAKBN.IS 2021-07-27\n",
            "18371  31.980000  32.099998  31.740000  ...   1726049.0  VESTL.IS 2021-07-27\n",
            "\n",
            "[18372 rows x 8 columns]\n"
          ],
          "name": "stdout"
        }
      ]
    },
    {
      "cell_type": "code",
      "metadata": {
        "id": "ZqLat9ZEVArP"
      },
      "source": [
        ""
      ],
      "execution_count": 16,
      "outputs": []
    },
    {
      "cell_type": "markdown",
      "metadata": {
        "id": "pCZ4TqQoF-Ne"
      },
      "source": [
        "#Feature Engineering"
      ]
    },
    {
      "cell_type": "code",
      "metadata": {
        "colab": {
          "base_uri": "https://localhost:8080/"
        },
        "id": "xMStfgh7GCoW",
        "outputId": "cb73b7d5-a90c-438d-8f5a-8b2b3205ab68"
      },
      "source": [
        "print(\"==============Start Feature Engineering===========\")\n",
        "tech_indicator_list=config.TECHNICAL_INDICATORS_LIST\n",
        "\n",
        "fe = FeatureEngineer(\n",
        "    use_technical_indicator=True,\n",
        "    tech_indicator_list=tech_indicator_list,\n",
        "    use_turbulence=True,\n",
        "    user_defined_feature=False,\n",
        ")"
      ],
      "execution_count": 17,
      "outputs": [
        {
          "output_type": "stream",
          "text": [
            "==============Start Feature Engineering===========\n"
          ],
          "name": "stdout"
        }
      ]
    },
    {
      "cell_type": "code",
      "metadata": {
        "colab": {
          "base_uri": "https://localhost:8080/"
        },
        "id": "74EivXT9M2nZ",
        "outputId": "734d4752-7747-45ef-a4a6-4ee0efd41eb6"
      },
      "source": [
        "tech_indicator_list"
      ],
      "execution_count": 18,
      "outputs": [
        {
          "output_type": "execute_result",
          "data": {
            "text/plain": [
              "['macd', 'rsi_30', 'cci_30', 'dx_30']"
            ]
          },
          "metadata": {
            "tags": []
          },
          "execution_count": 18
        }
      ]
    },
    {
      "cell_type": "code",
      "metadata": {
        "colab": {
          "base_uri": "https://localhost:8080/"
        },
        "id": "s7RxTJIGPBH_",
        "outputId": "04dc2e89-fc2a-45f1-b0bf-43cd2cd97bee"
      },
      "source": [
        "processed = fe.preprocess_data(multiticker_df)\n"
      ],
      "execution_count": 19,
      "outputs": [
        {
          "output_type": "stream",
          "text": [
            "Successfully added technical indicators\n",
            "Successfully added turbulence index\n"
          ],
          "name": "stdout"
        }
      ]
    },
    {
      "cell_type": "code",
      "metadata": {
        "id": "kotw7jtHLy_5",
        "colab": {
          "base_uri": "https://localhost:8080/",
          "height": 419
        },
        "outputId": "7c5bb4b1-0361-4e74-b15c-1027a8359779"
      },
      "source": [
        "processed"
      ],
      "execution_count": 20,
      "outputs": [
        {
          "output_type": "execute_result",
          "data": {
            "text/html": [
              "<div>\n",
              "<style scoped>\n",
              "    .dataframe tbody tr th:only-of-type {\n",
              "        vertical-align: middle;\n",
              "    }\n",
              "\n",
              "    .dataframe tbody tr th {\n",
              "        vertical-align: top;\n",
              "    }\n",
              "\n",
              "    .dataframe thead th {\n",
              "        text-align: right;\n",
              "    }\n",
              "</style>\n",
              "<table border=\"1\" class=\"dataframe\">\n",
              "  <thead>\n",
              "    <tr style=\"text-align: right;\">\n",
              "      <th></th>\n",
              "      <th>open</th>\n",
              "      <th>high</th>\n",
              "      <th>low</th>\n",
              "      <th>close</th>\n",
              "      <th>adj close</th>\n",
              "      <th>volume</th>\n",
              "      <th>tic</th>\n",
              "      <th>date</th>\n",
              "      <th>macd</th>\n",
              "      <th>rsi_30</th>\n",
              "      <th>cci_30</th>\n",
              "      <th>dx_30</th>\n",
              "      <th>turbulence</th>\n",
              "    </tr>\n",
              "  </thead>\n",
              "  <tbody>\n",
              "    <tr>\n",
              "      <th>0</th>\n",
              "      <td>6.182181</td>\n",
              "      <td>6.182181</td>\n",
              "      <td>6.122160</td>\n",
              "      <td>6.165032</td>\n",
              "      <td>5.510608</td>\n",
              "      <td>13466375.0</td>\n",
              "      <td>AKBNK.IS</td>\n",
              "      <td>2015-07-27</td>\n",
              "      <td>0.000000</td>\n",
              "      <td>0.000000</td>\n",
              "      <td>66.666667</td>\n",
              "      <td>100.000000</td>\n",
              "      <td>0.000000</td>\n",
              "    </tr>\n",
              "    <tr>\n",
              "      <th>1</th>\n",
              "      <td>14.750000</td>\n",
              "      <td>14.950000</td>\n",
              "      <td>14.500000</td>\n",
              "      <td>14.600000</td>\n",
              "      <td>11.878804</td>\n",
              "      <td>1976842.0</td>\n",
              "      <td>ARCLK.IS</td>\n",
              "      <td>2015-07-27</td>\n",
              "      <td>0.000000</td>\n",
              "      <td>0.000000</td>\n",
              "      <td>66.666667</td>\n",
              "      <td>100.000000</td>\n",
              "      <td>0.000000</td>\n",
              "    </tr>\n",
              "    <tr>\n",
              "      <th>2</th>\n",
              "      <td>23.525000</td>\n",
              "      <td>23.799999</td>\n",
              "      <td>23.325001</td>\n",
              "      <td>23.600000</td>\n",
              "      <td>19.072001</td>\n",
              "      <td>628882.0</td>\n",
              "      <td>BIMAS.IS</td>\n",
              "      <td>2015-07-27</td>\n",
              "      <td>0.000000</td>\n",
              "      <td>0.000000</td>\n",
              "      <td>66.666667</td>\n",
              "      <td>100.000000</td>\n",
              "      <td>0.000000</td>\n",
              "    </tr>\n",
              "    <tr>\n",
              "      <th>3</th>\n",
              "      <td>3.990000</td>\n",
              "      <td>4.040000</td>\n",
              "      <td>3.960000</td>\n",
              "      <td>4.040000</td>\n",
              "      <td>1.965522</td>\n",
              "      <td>6776403.0</td>\n",
              "      <td>EREGL.IS</td>\n",
              "      <td>2015-07-27</td>\n",
              "      <td>0.000000</td>\n",
              "      <td>0.000000</td>\n",
              "      <td>66.666667</td>\n",
              "      <td>100.000000</td>\n",
              "      <td>0.000000</td>\n",
              "    </tr>\n",
              "    <tr>\n",
              "      <th>4</th>\n",
              "      <td>7.900000</td>\n",
              "      <td>7.910000</td>\n",
              "      <td>7.740000</td>\n",
              "      <td>7.760000</td>\n",
              "      <td>6.942376</td>\n",
              "      <td>63095366.0</td>\n",
              "      <td>GARAN.IS</td>\n",
              "      <td>2015-07-27</td>\n",
              "      <td>0.000000</td>\n",
              "      <td>0.000000</td>\n",
              "      <td>66.666667</td>\n",
              "      <td>100.000000</td>\n",
              "      <td>0.000000</td>\n",
              "    </tr>\n",
              "    <tr>\n",
              "      <th>...</th>\n",
              "      <td>...</td>\n",
              "      <td>...</td>\n",
              "      <td>...</td>\n",
              "      <td>...</td>\n",
              "      <td>...</td>\n",
              "      <td>...</td>\n",
              "      <td>...</td>\n",
              "      <td>...</td>\n",
              "      <td>...</td>\n",
              "      <td>...</td>\n",
              "      <td>...</td>\n",
              "      <td>...</td>\n",
              "      <td>...</td>\n",
              "    </tr>\n",
              "    <tr>\n",
              "      <th>18367</th>\n",
              "      <td>67.699997</td>\n",
              "      <td>71.949997</td>\n",
              "      <td>67.199997</td>\n",
              "      <td>71.400002</td>\n",
              "      <td>71.400002</td>\n",
              "      <td>3505926.0</td>\n",
              "      <td>PGSUS.IS</td>\n",
              "      <td>2021-07-27</td>\n",
              "      <td>-2.136392</td>\n",
              "      <td>44.699076</td>\n",
              "      <td>-115.962311</td>\n",
              "      <td>31.513849</td>\n",
              "      <td>7.048507</td>\n",
              "    </tr>\n",
              "    <tr>\n",
              "      <th>18368</th>\n",
              "      <td>9.070000</td>\n",
              "      <td>9.300000</td>\n",
              "      <td>9.020000</td>\n",
              "      <td>9.290000</td>\n",
              "      <td>9.290000</td>\n",
              "      <td>17634418.0</td>\n",
              "      <td>SAHOL.IS</td>\n",
              "      <td>2021-07-27</td>\n",
              "      <td>0.000826</td>\n",
              "      <td>53.078843</td>\n",
              "      <td>5.758155</td>\n",
              "      <td>11.416987</td>\n",
              "      <td>7.048507</td>\n",
              "    </tr>\n",
              "    <tr>\n",
              "      <th>18369</th>\n",
              "      <td>29.680000</td>\n",
              "      <td>30.299999</td>\n",
              "      <td>29.340000</td>\n",
              "      <td>29.540001</td>\n",
              "      <td>29.540001</td>\n",
              "      <td>15605997.0</td>\n",
              "      <td>SASA.IS</td>\n",
              "      <td>2021-07-27</td>\n",
              "      <td>-0.567082</td>\n",
              "      <td>47.213518</td>\n",
              "      <td>-26.532921</td>\n",
              "      <td>13.879146</td>\n",
              "      <td>7.048507</td>\n",
              "    </tr>\n",
              "    <tr>\n",
              "      <th>18370</th>\n",
              "      <td>3.430000</td>\n",
              "      <td>3.440000</td>\n",
              "      <td>3.390000</td>\n",
              "      <td>3.420000</td>\n",
              "      <td>3.420000</td>\n",
              "      <td>30871452.0</td>\n",
              "      <td>VAKBN.IS</td>\n",
              "      <td>2021-07-27</td>\n",
              "      <td>-0.036190</td>\n",
              "      <td>42.210935</td>\n",
              "      <td>-143.798826</td>\n",
              "      <td>35.035782</td>\n",
              "      <td>7.048507</td>\n",
              "    </tr>\n",
              "    <tr>\n",
              "      <th>18371</th>\n",
              "      <td>31.980000</td>\n",
              "      <td>32.099998</td>\n",
              "      <td>31.740000</td>\n",
              "      <td>31.879999</td>\n",
              "      <td>29.560400</td>\n",
              "      <td>1726049.0</td>\n",
              "      <td>VESTL.IS</td>\n",
              "      <td>2021-07-27</td>\n",
              "      <td>0.218199</td>\n",
              "      <td>52.811599</td>\n",
              "      <td>90.842671</td>\n",
              "      <td>11.440791</td>\n",
              "      <td>7.048507</td>\n",
              "    </tr>\n",
              "  </tbody>\n",
              "</table>\n",
              "<p>18372 rows × 13 columns</p>\n",
              "</div>"
            ],
            "text/plain": [
              "            open       high        low  ...      cci_30       dx_30  turbulence\n",
              "0       6.182181   6.182181   6.122160  ...   66.666667  100.000000    0.000000\n",
              "1      14.750000  14.950000  14.500000  ...   66.666667  100.000000    0.000000\n",
              "2      23.525000  23.799999  23.325001  ...   66.666667  100.000000    0.000000\n",
              "3       3.990000   4.040000   3.960000  ...   66.666667  100.000000    0.000000\n",
              "4       7.900000   7.910000   7.740000  ...   66.666667  100.000000    0.000000\n",
              "...          ...        ...        ...  ...         ...         ...         ...\n",
              "18367  67.699997  71.949997  67.199997  ... -115.962311   31.513849    7.048507\n",
              "18368   9.070000   9.300000   9.020000  ...    5.758155   11.416987    7.048507\n",
              "18369  29.680000  30.299999  29.340000  ...  -26.532921   13.879146    7.048507\n",
              "18370   3.430000   3.440000   3.390000  ... -143.798826   35.035782    7.048507\n",
              "18371  31.980000  32.099998  31.740000  ...   90.842671   11.440791    7.048507\n",
              "\n",
              "[18372 rows x 13 columns]"
            ]
          },
          "metadata": {
            "tags": []
          },
          "execution_count": 20
        }
      ]
    },
    {
      "cell_type": "code",
      "metadata": {
        "id": "Pp27oqApaHNs"
      },
      "source": [
        "processed_full = processed.sort_values(['date','tic'])\n",
        "processed_full= processed_full.ffill().bfill()"
      ],
      "execution_count": 21,
      "outputs": []
    },
    {
      "cell_type": "code",
      "metadata": {
        "colab": {
          "base_uri": "https://localhost:8080/",
          "height": 606
        },
        "id": "FGaQbPbLWMHa",
        "outputId": "b347a135-5766-40ee-d8fd-e40b498bd9f4"
      },
      "source": [
        "processed_full"
      ],
      "execution_count": 22,
      "outputs": [
        {
          "output_type": "execute_result",
          "data": {
            "text/html": [
              "<div>\n",
              "<style scoped>\n",
              "    .dataframe tbody tr th:only-of-type {\n",
              "        vertical-align: middle;\n",
              "    }\n",
              "\n",
              "    .dataframe tbody tr th {\n",
              "        vertical-align: top;\n",
              "    }\n",
              "\n",
              "    .dataframe thead th {\n",
              "        text-align: right;\n",
              "    }\n",
              "</style>\n",
              "<table border=\"1\" class=\"dataframe\">\n",
              "  <thead>\n",
              "    <tr style=\"text-align: right;\">\n",
              "      <th></th>\n",
              "      <th>open</th>\n",
              "      <th>high</th>\n",
              "      <th>low</th>\n",
              "      <th>close</th>\n",
              "      <th>adj close</th>\n",
              "      <th>volume</th>\n",
              "      <th>tic</th>\n",
              "      <th>date</th>\n",
              "      <th>macd</th>\n",
              "      <th>rsi_30</th>\n",
              "      <th>cci_30</th>\n",
              "      <th>dx_30</th>\n",
              "      <th>turbulence</th>\n",
              "    </tr>\n",
              "  </thead>\n",
              "  <tbody>\n",
              "    <tr>\n",
              "      <th>0</th>\n",
              "      <td>6.182181</td>\n",
              "      <td>6.182181</td>\n",
              "      <td>6.122160</td>\n",
              "      <td>6.165032</td>\n",
              "      <td>5.510608</td>\n",
              "      <td>13466375.0</td>\n",
              "      <td>AKBNK.IS</td>\n",
              "      <td>2015-07-27</td>\n",
              "      <td>0.000000</td>\n",
              "      <td>0.000000</td>\n",
              "      <td>66.666667</td>\n",
              "      <td>100.000000</td>\n",
              "      <td>0.000000</td>\n",
              "    </tr>\n",
              "    <tr>\n",
              "      <th>1</th>\n",
              "      <td>14.750000</td>\n",
              "      <td>14.950000</td>\n",
              "      <td>14.500000</td>\n",
              "      <td>14.600000</td>\n",
              "      <td>11.878804</td>\n",
              "      <td>1976842.0</td>\n",
              "      <td>ARCLK.IS</td>\n",
              "      <td>2015-07-27</td>\n",
              "      <td>0.000000</td>\n",
              "      <td>0.000000</td>\n",
              "      <td>66.666667</td>\n",
              "      <td>100.000000</td>\n",
              "      <td>0.000000</td>\n",
              "    </tr>\n",
              "    <tr>\n",
              "      <th>2</th>\n",
              "      <td>23.525000</td>\n",
              "      <td>23.799999</td>\n",
              "      <td>23.325001</td>\n",
              "      <td>23.600000</td>\n",
              "      <td>19.072001</td>\n",
              "      <td>628882.0</td>\n",
              "      <td>BIMAS.IS</td>\n",
              "      <td>2015-07-27</td>\n",
              "      <td>0.000000</td>\n",
              "      <td>0.000000</td>\n",
              "      <td>66.666667</td>\n",
              "      <td>100.000000</td>\n",
              "      <td>0.000000</td>\n",
              "    </tr>\n",
              "    <tr>\n",
              "      <th>3</th>\n",
              "      <td>3.990000</td>\n",
              "      <td>4.040000</td>\n",
              "      <td>3.960000</td>\n",
              "      <td>4.040000</td>\n",
              "      <td>1.965522</td>\n",
              "      <td>6776403.0</td>\n",
              "      <td>EREGL.IS</td>\n",
              "      <td>2015-07-27</td>\n",
              "      <td>0.000000</td>\n",
              "      <td>0.000000</td>\n",
              "      <td>66.666667</td>\n",
              "      <td>100.000000</td>\n",
              "      <td>0.000000</td>\n",
              "    </tr>\n",
              "    <tr>\n",
              "      <th>4</th>\n",
              "      <td>7.900000</td>\n",
              "      <td>7.910000</td>\n",
              "      <td>7.740000</td>\n",
              "      <td>7.760000</td>\n",
              "      <td>6.942376</td>\n",
              "      <td>63095366.0</td>\n",
              "      <td>GARAN.IS</td>\n",
              "      <td>2015-07-27</td>\n",
              "      <td>0.000000</td>\n",
              "      <td>0.000000</td>\n",
              "      <td>66.666667</td>\n",
              "      <td>100.000000</td>\n",
              "      <td>0.000000</td>\n",
              "    </tr>\n",
              "    <tr>\n",
              "      <th>...</th>\n",
              "      <td>...</td>\n",
              "      <td>...</td>\n",
              "      <td>...</td>\n",
              "      <td>...</td>\n",
              "      <td>...</td>\n",
              "      <td>...</td>\n",
              "      <td>...</td>\n",
              "      <td>...</td>\n",
              "      <td>...</td>\n",
              "      <td>...</td>\n",
              "      <td>...</td>\n",
              "      <td>...</td>\n",
              "      <td>...</td>\n",
              "    </tr>\n",
              "    <tr>\n",
              "      <th>18367</th>\n",
              "      <td>67.699997</td>\n",
              "      <td>71.949997</td>\n",
              "      <td>67.199997</td>\n",
              "      <td>71.400002</td>\n",
              "      <td>71.400002</td>\n",
              "      <td>3505926.0</td>\n",
              "      <td>PGSUS.IS</td>\n",
              "      <td>2021-07-27</td>\n",
              "      <td>-2.136392</td>\n",
              "      <td>44.699076</td>\n",
              "      <td>-115.962311</td>\n",
              "      <td>31.513849</td>\n",
              "      <td>7.048507</td>\n",
              "    </tr>\n",
              "    <tr>\n",
              "      <th>18368</th>\n",
              "      <td>9.070000</td>\n",
              "      <td>9.300000</td>\n",
              "      <td>9.020000</td>\n",
              "      <td>9.290000</td>\n",
              "      <td>9.290000</td>\n",
              "      <td>17634418.0</td>\n",
              "      <td>SAHOL.IS</td>\n",
              "      <td>2021-07-27</td>\n",
              "      <td>0.000826</td>\n",
              "      <td>53.078843</td>\n",
              "      <td>5.758155</td>\n",
              "      <td>11.416987</td>\n",
              "      <td>7.048507</td>\n",
              "    </tr>\n",
              "    <tr>\n",
              "      <th>18369</th>\n",
              "      <td>29.680000</td>\n",
              "      <td>30.299999</td>\n",
              "      <td>29.340000</td>\n",
              "      <td>29.540001</td>\n",
              "      <td>29.540001</td>\n",
              "      <td>15605997.0</td>\n",
              "      <td>SASA.IS</td>\n",
              "      <td>2021-07-27</td>\n",
              "      <td>-0.567082</td>\n",
              "      <td>47.213518</td>\n",
              "      <td>-26.532921</td>\n",
              "      <td>13.879146</td>\n",
              "      <td>7.048507</td>\n",
              "    </tr>\n",
              "    <tr>\n",
              "      <th>18370</th>\n",
              "      <td>3.430000</td>\n",
              "      <td>3.440000</td>\n",
              "      <td>3.390000</td>\n",
              "      <td>3.420000</td>\n",
              "      <td>3.420000</td>\n",
              "      <td>30871452.0</td>\n",
              "      <td>VAKBN.IS</td>\n",
              "      <td>2021-07-27</td>\n",
              "      <td>-0.036190</td>\n",
              "      <td>42.210935</td>\n",
              "      <td>-143.798826</td>\n",
              "      <td>35.035782</td>\n",
              "      <td>7.048507</td>\n",
              "    </tr>\n",
              "    <tr>\n",
              "      <th>18371</th>\n",
              "      <td>31.980000</td>\n",
              "      <td>32.099998</td>\n",
              "      <td>31.740000</td>\n",
              "      <td>31.879999</td>\n",
              "      <td>29.560400</td>\n",
              "      <td>1726049.0</td>\n",
              "      <td>VESTL.IS</td>\n",
              "      <td>2021-07-27</td>\n",
              "      <td>0.218199</td>\n",
              "      <td>52.811599</td>\n",
              "      <td>90.842671</td>\n",
              "      <td>11.440791</td>\n",
              "      <td>7.048507</td>\n",
              "    </tr>\n",
              "  </tbody>\n",
              "</table>\n",
              "<p>18372 rows × 13 columns</p>\n",
              "</div>"
            ],
            "text/plain": [
              "            open       high        low  ...      cci_30       dx_30  turbulence\n",
              "0       6.182181   6.182181   6.122160  ...   66.666667  100.000000    0.000000\n",
              "1      14.750000  14.950000  14.500000  ...   66.666667  100.000000    0.000000\n",
              "2      23.525000  23.799999  23.325001  ...   66.666667  100.000000    0.000000\n",
              "3       3.990000   4.040000   3.960000  ...   66.666667  100.000000    0.000000\n",
              "4       7.900000   7.910000   7.740000  ...   66.666667  100.000000    0.000000\n",
              "...          ...        ...        ...  ...         ...         ...         ...\n",
              "18367  67.699997  71.949997  67.199997  ... -115.962311   31.513849    7.048507\n",
              "18368   9.070000   9.300000   9.020000  ...    5.758155   11.416987    7.048507\n",
              "18369  29.680000  30.299999  29.340000  ...  -26.532921   13.879146    7.048507\n",
              "18370   3.430000   3.440000   3.390000  ... -143.798826   35.035782    7.048507\n",
              "18371  31.980000  32.099998  31.740000  ...   90.842671   11.440791    7.048507\n",
              "\n",
              "[18372 rows x 13 columns]"
            ]
          },
          "metadata": {
            "tags": []
          },
          "execution_count": 22
        }
      ]
    },
    {
      "cell_type": "markdown",
      "metadata": {
        "id": "C2I1963JGJ0p"
      },
      "source": [
        "# Training & Trading data split"
      ]
    },
    {
      "cell_type": "code",
      "metadata": {
        "id": "nC0IB70LV85V"
      },
      "source": [
        "date1=\"2015-07-27\"\n",
        "date2=\"2021-07-28\"\n",
        "date3= \"2020-07-27\""
      ],
      "execution_count": 23,
      "outputs": []
    },
    {
      "cell_type": "code",
      "metadata": {
        "id": "5JzbjsCMGL71"
      },
      "source": [
        "train = data_split(processed_full,date1, date3)\n",
        "trade = data_split(processed_full, date3, date2)\n"
      ],
      "execution_count": 24,
      "outputs": []
    },
    {
      "cell_type": "code",
      "metadata": {
        "id": "4_duxrhPVz84"
      },
      "source": [
        ""
      ],
      "execution_count": 24,
      "outputs": []
    },
    {
      "cell_type": "markdown",
      "metadata": {
        "id": "hs2vZ3G1GPBC"
      },
      "source": [
        "# Calculate state action space\n"
      ]
    },
    {
      "cell_type": "code",
      "metadata": {
        "id": "qNzEVW5eGWMa"
      },
      "source": [
        "stock_dimension = len(train.tic.unique()) # number of tickers\n",
        "state_space = (\n",
        "        1\n",
        "        + 2 * stock_dimension\n",
        "        + len(config.TECHNICAL_INDICATORS_LIST) * stock_dimension)"
      ],
      "execution_count": 25,
      "outputs": []
    },
    {
      "cell_type": "code",
      "metadata": {
        "colab": {
          "base_uri": "https://localhost:8080/"
        },
        "id": "uR8a2tbCWcBJ",
        "outputId": "1065b0a0-8812-4be6-a8f4-a1b3af5d6c66"
      },
      "source": [
        "stock_dimension ,state_space"
      ],
      "execution_count": 26,
      "outputs": [
        {
          "output_type": "execute_result",
          "data": {
            "text/plain": [
              "(12, 73)"
            ]
          },
          "metadata": {
            "tags": []
          },
          "execution_count": 26
        }
      ]
    },
    {
      "cell_type": "markdown",
      "metadata": {
        "id": "KCYxywl6GVby"
      },
      "source": [
        "# ENV CREATE"
      ]
    },
    {
      "cell_type": "code",
      "metadata": {
        "id": "FBgQYYUJGVkh"
      },
      "source": [
        "env_kwargs = {\n",
        "        \"hmax\": 100, \n",
        "        \"initial_amount\": 1000000, \n",
        "        \"buy_cost_pct\": 0.001, \n",
        "        \"sell_cost_pct\": 0.001, \n",
        "        \"state_space\": state_space, \n",
        "        \"stock_dim\": stock_dimension, \n",
        "        \"tech_indicator_list\": config.TECHNICAL_INDICATORS_LIST, \n",
        "        \"action_space\": stock_dimension, \n",
        "        \"reward_scaling\": 1e-4\n",
        "}"
      ],
      "execution_count": 27,
      "outputs": []
    },
    {
      "cell_type": "code",
      "metadata": {
        "id": "Z3gh7QU2GeC7"
      },
      "source": [
        "e_train_gym = StockTradingEnv(df=train, **env_kwargs)\n",
        "env_train, _ = e_train_gym.get_sb_env()"
      ],
      "execution_count": 28,
      "outputs": []
    },
    {
      "cell_type": "code",
      "metadata": {
        "colab": {
          "base_uri": "https://localhost:8080/"
        },
        "id": "EDrnM5RKXMpK",
        "outputId": "6e16bec1-7dec-44fd-ea9d-9d1ab3d08bbf"
      },
      "source": [
        "_"
      ],
      "execution_count": 29,
      "outputs": [
        {
          "output_type": "execute_result",
          "data": {
            "text/plain": [
              "array([[1.0000000e+06, 6.1650319e+00, 1.4600000e+01, 2.3600000e+01,\n",
              "        4.0400000e+00, 7.7600002e+00, 1.1400000e+01, 1.5427710e+00,\n",
              "        2.3500000e+01, 9.2799997e+00, 4.8474401e-01, 3.9500000e+00,\n",
              "        4.3600001e+00, 0.0000000e+00, 0.0000000e+00, 0.0000000e+00,\n",
              "        0.0000000e+00, 0.0000000e+00, 0.0000000e+00, 0.0000000e+00,\n",
              "        0.0000000e+00, 0.0000000e+00, 0.0000000e+00, 0.0000000e+00,\n",
              "        0.0000000e+00, 0.0000000e+00, 0.0000000e+00, 0.0000000e+00,\n",
              "        0.0000000e+00, 0.0000000e+00, 0.0000000e+00, 0.0000000e+00,\n",
              "        0.0000000e+00, 0.0000000e+00, 0.0000000e+00, 0.0000000e+00,\n",
              "        0.0000000e+00, 0.0000000e+00, 0.0000000e+00, 0.0000000e+00,\n",
              "        0.0000000e+00, 0.0000000e+00, 0.0000000e+00, 0.0000000e+00,\n",
              "        0.0000000e+00, 0.0000000e+00, 0.0000000e+00, 0.0000000e+00,\n",
              "        0.0000000e+00, 6.6666664e+01, 6.6666664e+01, 6.6666664e+01,\n",
              "        6.6666664e+01, 6.6666664e+01, 6.6666664e+01, 6.6666664e+01,\n",
              "        6.6666664e+01, 6.6666664e+01, 6.6666664e+01, 6.6666664e+01,\n",
              "        6.6666664e+01, 1.0000000e+02, 1.0000000e+02, 1.0000000e+02,\n",
              "        1.0000000e+02, 1.0000000e+02, 1.0000000e+02, 1.0000000e+02,\n",
              "        1.0000000e+02, 1.0000000e+02, 1.0000000e+02, 1.0000000e+02,\n",
              "        1.0000000e+02]], dtype=float32)"
            ]
          },
          "metadata": {
            "tags": []
          },
          "execution_count": 29
        }
      ]
    },
    {
      "cell_type": "markdown",
      "metadata": {
        "id": "S7Su8o5rGifu"
      },
      "source": [
        "#SET AGENT"
      ]
    },
    {
      "cell_type": "code",
      "metadata": {
        "id": "tHOjb-ByGj1B"
      },
      "source": [
        "agent = DRLAgent(env=env_train)\n",
        "#DRLAGENT hazır kütüphaneden alınmakta. Kendimiz çeşitlendirebilir miyiz?"
      ],
      "execution_count": 30,
      "outputs": []
    },
    {
      "cell_type": "markdown",
      "metadata": {
        "id": "gZ04SryQGoC1"
      },
      "source": [
        "#Model Training\n",
        "We use Soft Actor-Critic (SAC) for multiple stock trading, because it is one of the most recent state-of-art algorithms. SAC is featured by its stability.\n",
        "\n",
        "For more info about SAC :https://bit.ly/3yuKz8a"
      ]
    },
    {
      "cell_type": "markdown",
      "metadata": {
        "id": "EHr_MgBbKCUs"
      },
      "source": [
        "![SAC.png](data:image/png;base64,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)"
      ]
    },
    {
      "cell_type": "code",
      "metadata": {
        "id": "UaCT5j_LGqYa",
        "colab": {
          "base_uri": "https://localhost:8080/"
        },
        "outputId": "98ca5abd-f212-462f-9667-d6da7cf10f31"
      },
      "source": [
        "print(\"==============Model Training===========\")\n",
        "now = datetime.datetime.now().strftime(\"%Y%m%d-%Hh%M\")\n",
        "\n",
        "model_sac = agent.get_model(\"sac\")\n",
        "trained_sac = agent.train_model(model=model_sac, tb_log_name=\"sac\", total_timesteps=80000 )"
      ],
      "execution_count": 31,
      "outputs": [
        {
          "output_type": "stream",
          "text": [
            "==============Model Training===========\n",
            "{'batch_size': 64, 'buffer_size': 100000, 'learning_rate': 0.0001, 'learning_starts': 100, 'ent_coef': 'auto_0.1'}\n",
            "Using cuda device\n",
            "Logging to tensorboard_log/sac/sac_1\n",
            "---------------------------------\n",
            "| time/              |          |\n",
            "|    episodes        | 4        |\n",
            "|    fps             | 69       |\n",
            "|    time_elapsed    | 73       |\n",
            "|    total timesteps | 5128     |\n",
            "| train/             |          |\n",
            "|    actor_loss      | 1.59e+03 |\n",
            "|    critic_loss     | 945      |\n",
            "|    ent_coef        | 0.162    |\n",
            "|    ent_coef_loss   | 246      |\n",
            "|    learning_rate   | 0.0001   |\n",
            "|    n_updates       | 5027     |\n",
            "---------------------------------\n",
            "---------------------------------\n",
            "| time/              |          |\n",
            "|    episodes        | 8        |\n",
            "|    fps             | 69       |\n",
            "|    time_elapsed    | 146      |\n",
            "|    total timesteps | 10256    |\n",
            "| train/             |          |\n",
            "|    actor_loss      | 2.19e+03 |\n",
            "|    critic_loss     | 2.87e+03 |\n",
            "|    ent_coef        | 0.27     |\n",
            "|    ent_coef_loss   | 178      |\n",
            "|    learning_rate   | 0.0001   |\n",
            "|    n_updates       | 10155    |\n",
            "---------------------------------\n",
            "day: 1281, episode: 10\n",
            "begin_total_asset: 1000000.00\n",
            "end_total_asset: 2357697.30\n",
            "total_reward: 1357697.30\n",
            "total_cost: 1811.36\n",
            "total_trades: 9529\n",
            "Sharpe: 0.672\n",
            "=================================\n",
            "---------------------------------\n",
            "| time/              |          |\n",
            "|    episodes        | 12       |\n",
            "|    fps             | 69       |\n",
            "|    time_elapsed    | 219      |\n",
            "|    total timesteps | 15384    |\n",
            "| train/             |          |\n",
            "|    actor_loss      | 2.87e+03 |\n",
            "|    critic_loss     | 936      |\n",
            "|    ent_coef        | 0.451    |\n",
            "|    ent_coef_loss   | 108      |\n",
            "|    learning_rate   | 0.0001   |\n",
            "|    n_updates       | 15283    |\n",
            "---------------------------------\n",
            "---------------------------------\n",
            "| time/              |          |\n",
            "|    episodes        | 16       |\n",
            "|    fps             | 70       |\n",
            "|    time_elapsed    | 292      |\n",
            "|    total timesteps | 20512    |\n",
            "| train/             |          |\n",
            "|    actor_loss      | 4.21e+03 |\n",
            "|    critic_loss     | 1.83e+03 |\n",
            "|    ent_coef        | 0.752    |\n",
            "|    ent_coef_loss   | 38.4     |\n",
            "|    learning_rate   | 0.0001   |\n",
            "|    n_updates       | 20411    |\n",
            "---------------------------------\n",
            "day: 1281, episode: 20\n",
            "begin_total_asset: 1000000.00\n",
            "end_total_asset: 2357697.30\n",
            "total_reward: 1357697.30\n",
            "total_cost: 1811.36\n",
            "total_trades: 9529\n",
            "Sharpe: 0.672\n",
            "=================================\n",
            "---------------------------------\n",
            "| time/              |          |\n",
            "|    episodes        | 20       |\n",
            "|    fps             | 69       |\n",
            "|    time_elapsed    | 366      |\n",
            "|    total timesteps | 25640    |\n",
            "| train/             |          |\n",
            "|    actor_loss      | 6.82e+03 |\n",
            "|    critic_loss     | 6.56e+03 |\n",
            "|    ent_coef        | 1.26     |\n",
            "|    ent_coef_loss   | -31      |\n",
            "|    learning_rate   | 0.0001   |\n",
            "|    n_updates       | 25539    |\n",
            "---------------------------------\n",
            "---------------------------------\n",
            "| time/              |          |\n",
            "|    episodes        | 24       |\n",
            "|    fps             | 70       |\n",
            "|    time_elapsed    | 438      |\n",
            "|    total timesteps | 30768    |\n",
            "| train/             |          |\n",
            "|    actor_loss      | 1.09e+04 |\n",
            "|    critic_loss     | 1.25e+04 |\n",
            "|    ent_coef        | 2.1      |\n",
            "|    ent_coef_loss   | -100     |\n",
            "|    learning_rate   | 0.0001   |\n",
            "|    n_updates       | 30667    |\n",
            "---------------------------------\n",
            "---------------------------------\n",
            "| time/              |          |\n",
            "|    episodes        | 28       |\n",
            "|    fps             | 70       |\n",
            "|    time_elapsed    | 510      |\n",
            "|    total timesteps | 35896    |\n",
            "| train/             |          |\n",
            "|    actor_loss      | 1.8e+04  |\n",
            "|    critic_loss     | 3.71e+04 |\n",
            "|    ent_coef        | 3.5      |\n",
            "|    ent_coef_loss   | -170     |\n",
            "|    learning_rate   | 0.0001   |\n",
            "|    n_updates       | 35795    |\n",
            "---------------------------------\n",
            "day: 1281, episode: 30\n",
            "begin_total_asset: 1000000.00\n",
            "end_total_asset: 2357697.30\n",
            "total_reward: 1357697.30\n",
            "total_cost: 1811.36\n",
            "total_trades: 9529\n",
            "Sharpe: 0.672\n",
            "=================================\n",
            "---------------------------------\n",
            "| time/              |          |\n",
            "|    episodes        | 32       |\n",
            "|    fps             | 70       |\n",
            "|    time_elapsed    | 582      |\n",
            "|    total timesteps | 41024    |\n",
            "| train/             |          |\n",
            "|    actor_loss      | 2.98e+04 |\n",
            "|    critic_loss     | 8.06e+04 |\n",
            "|    ent_coef        | 5.85     |\n",
            "|    ent_coef_loss   | -239     |\n",
            "|    learning_rate   | 0.0001   |\n",
            "|    n_updates       | 40923    |\n",
            "---------------------------------\n",
            "---------------------------------\n",
            "| time/              |          |\n",
            "|    episodes        | 36       |\n",
            "|    fps             | 70       |\n",
            "|    time_elapsed    | 656      |\n",
            "|    total timesteps | 46152    |\n",
            "| train/             |          |\n",
            "|    actor_loss      | 4.97e+04 |\n",
            "|    critic_loss     | 8.04e+04 |\n",
            "|    ent_coef        | 9.77     |\n",
            "|    ent_coef_loss   | -309     |\n",
            "|    learning_rate   | 0.0001   |\n",
            "|    n_updates       | 46051    |\n",
            "---------------------------------\n",
            "day: 1281, episode: 40\n",
            "begin_total_asset: 1000000.00\n",
            "end_total_asset: 2357697.30\n",
            "total_reward: 1357697.30\n",
            "total_cost: 1811.36\n",
            "total_trades: 9529\n",
            "Sharpe: 0.672\n",
            "=================================\n",
            "---------------------------------\n",
            "| time/              |          |\n",
            "|    episodes        | 40       |\n",
            "|    fps             | 70       |\n",
            "|    time_elapsed    | 727      |\n",
            "|    total timesteps | 51280    |\n",
            "| train/             |          |\n",
            "|    actor_loss      | 8.24e+04 |\n",
            "|    critic_loss     | 1.06e+06 |\n",
            "|    ent_coef        | 16.3     |\n",
            "|    ent_coef_loss   | -377     |\n",
            "|    learning_rate   | 0.0001   |\n",
            "|    n_updates       | 51179    |\n",
            "---------------------------------\n",
            "---------------------------------\n",
            "| time/              |          |\n",
            "|    episodes        | 44       |\n",
            "|    fps             | 70       |\n",
            "|    time_elapsed    | 799      |\n",
            "|    total timesteps | 56408    |\n",
            "| train/             |          |\n",
            "|    actor_loss      | 1.38e+05 |\n",
            "|    critic_loss     | 1.28e+06 |\n",
            "|    ent_coef        | 27.2     |\n",
            "|    ent_coef_loss   | -449     |\n",
            "|    learning_rate   | 0.0001   |\n",
            "|    n_updates       | 56307    |\n",
            "---------------------------------\n",
            "---------------------------------\n",
            "| time/              |          |\n",
            "|    episodes        | 48       |\n",
            "|    fps             | 70       |\n",
            "|    time_elapsed    | 870      |\n",
            "|    total timesteps | 61536    |\n",
            "| train/             |          |\n",
            "|    actor_loss      | 2.3e+05  |\n",
            "|    critic_loss     | 6.38e+06 |\n",
            "|    ent_coef        | 45.5     |\n",
            "|    ent_coef_loss   | -518     |\n",
            "|    learning_rate   | 0.0001   |\n",
            "|    n_updates       | 61435    |\n",
            "---------------------------------\n",
            "day: 1281, episode: 50\n",
            "begin_total_asset: 1000000.00\n",
            "end_total_asset: 2357697.30\n",
            "total_reward: 1357697.30\n",
            "total_cost: 1811.36\n",
            "total_trades: 9529\n",
            "Sharpe: 0.672\n",
            "=================================\n",
            "---------------------------------\n",
            "| time/              |          |\n",
            "|    episodes        | 52       |\n",
            "|    fps             | 70       |\n",
            "|    time_elapsed    | 942      |\n",
            "|    total timesteps | 66664    |\n",
            "| train/             |          |\n",
            "|    actor_loss      | 3.85e+05 |\n",
            "|    critic_loss     | 3.53e+06 |\n",
            "|    ent_coef        | 76       |\n",
            "|    ent_coef_loss   | -586     |\n",
            "|    learning_rate   | 0.0001   |\n",
            "|    n_updates       | 66563    |\n",
            "---------------------------------\n",
            "---------------------------------\n",
            "| time/              |          |\n",
            "|    episodes        | 56       |\n",
            "|    fps             | 70       |\n",
            "|    time_elapsed    | 1016     |\n",
            "|    total timesteps | 71792    |\n",
            "| train/             |          |\n",
            "|    actor_loss      | 6.34e+05 |\n",
            "|    critic_loss     | 1.78e+07 |\n",
            "|    ent_coef        | 127      |\n",
            "|    ent_coef_loss   | -655     |\n",
            "|    learning_rate   | 0.0001   |\n",
            "|    n_updates       | 71691    |\n",
            "---------------------------------\n",
            "day: 1281, episode: 60\n",
            "begin_total_asset: 1000000.00\n",
            "end_total_asset: 2357697.30\n",
            "total_reward: 1357697.30\n",
            "total_cost: 1811.36\n",
            "total_trades: 9529\n",
            "Sharpe: 0.672\n",
            "=================================\n",
            "---------------------------------\n",
            "| time/              |          |\n",
            "|    episodes        | 60       |\n",
            "|    fps             | 70       |\n",
            "|    time_elapsed    | 1088     |\n",
            "|    total timesteps | 76920    |\n",
            "| train/             |          |\n",
            "|    actor_loss      | 1.07e+06 |\n",
            "|    critic_loss     | 4.23e+07 |\n",
            "|    ent_coef        | 212      |\n",
            "|    ent_coef_loss   | -725     |\n",
            "|    learning_rate   | 0.0001   |\n",
            "|    n_updates       | 76819    |\n",
            "---------------------------------\n"
          ],
          "name": "stdout"
        }
      ]
    },
    {
      "cell_type": "markdown",
      "metadata": {
        "id": "yCE5CUYBK0J5"
      },
      "source": [
        "#Save Model"
      ]
    },
    {
      "cell_type": "code",
      "metadata": {
        "id": "UxTIeiHwKzeA"
      },
      "source": [
        "!mkdir -p saved_model\n",
        "trained_sac.save('saved_model/my_modelBIST.h5') "
      ],
      "execution_count": 32,
      "outputs": []
    },
    {
      "cell_type": "code",
      "metadata": {
        "colab": {
          "base_uri": "https://localhost:8080/"
        },
        "id": "4kiILgUMlxdz",
        "outputId": "3b1d037b-9d5d-4213-8074-bd3b205d7414"
      },
      "source": [
        "trained_sac"
      ],
      "execution_count": 33,
      "outputs": [
        {
          "output_type": "execute_result",
          "data": {
            "text/plain": [
              "<stable_baselines3.sac.sac.SAC at 0x7f240f637210>"
            ]
          },
          "metadata": {
            "tags": []
          },
          "execution_count": 33
        }
      ]
    },
    {
      "cell_type": "code",
      "metadata": {
        "id": "R42wWNDOGyGN",
        "colab": {
          "base_uri": "https://localhost:8080/"
        },
        "outputId": "db77e3f5-2825-4691-9e03-d0b9422ad037"
      },
      "source": [
        "print(\"==============Start Trading===========\")\n",
        "e_trade_gym = StockTradingEnv(df=trade, turbulence_threshold=250, **env_kwargs)\n",
        "\n",
        "df_account_value, df_actions = DRLAgent.DRL_prediction( model=trained_sac, environment = e_trade_gym)\n"
      ],
      "execution_count": 34,
      "outputs": [
        {
          "output_type": "stream",
          "text": [
            "==============Start Trading===========\n",
            "hit end!\n"
          ],
          "name": "stdout"
        }
      ]
    },
    {
      "cell_type": "code",
      "metadata": {
        "colab": {
          "base_uri": "https://localhost:8080/"
        },
        "id": "cBkUYzukKcvq",
        "outputId": "f96cd163-e84c-4c11-ca96-b417d74dcee9"
      },
      "source": [
        "df_account_value\n",
        "\n",
        "profit_list = []\n",
        "ac_val = list(df_account_value[\"account_value\"])\n",
        "print(ac_val)\n",
        "turn =len(ac_val)\n",
        "for i in range(turn):\n",
        "  \n",
        "  if i != turn-1:\n",
        "\n",
        "    diff = ac_val[i+1]  - ac_val[i]\n",
        "    profit_list.append(diff)\n",
        "  else:\n",
        "    profit_list.append(float(0))\n",
        "    \n",
        "print(profit_list)\n"
      ],
      "execution_count": 74,
      "outputs": [
        {
          "output_type": "stream",
          "text": [
            "[1000000.0, 999573.4940071106, 999170.1192901612, 999044.9191309692, 998783.8023089889, 998325.3982152226, 993142.5750651124, 995809.4900040869, 995842.4444822315, 1001444.2127149825, 1003595.1359241728, 1000050.8565969231, 998284.55945282, 997171.4128206732, 998922.9448916198, 1003743.7138947488, 1002588.7370997908, 1000430.8208821777, 1001458.6791832689, 1001245.0579874043, 1001676.1746969942, 1004477.0311388258, 1000595.0177052979, 993435.9007402186, 993983.0502062087, 993302.6248217587, 991164.2989960675, 994391.5849196437, 999559.5354226354, 996148.5690785889, 999046.937837148, 1003616.2746936323, 1009867.0616321802, 1010333.7578522684, 1007592.3278065446, 1008150.4024268155, 1011270.1206485274, 1012774.1883227829, 999045.58989718, 1002754.6399805549, 1005208.8891139986, 1010175.1963446857, 1010745.043767524, 1006834.8640165807, 1005721.3498972179, 1017346.1996445418, 1019120.6295096874, 1019078.0328330994, 1022500.1010264398, 1019967.9380812884, 1020932.618309021, 1019703.9326674938, 1028592.4832471132, 1040717.525787258, 1040226.7398560524, 1045843.0767870189, 1035196.3099097968, 1040643.3555891039, 1046571.5333871365, 1047630.5811212063, 1047486.705442071, 1037905.621700573, 1037444.9449249746, 1005820.1805013658, 998719.0711177827, 973987.1130391122, 966836.2598430158, 996035.2864860059, 997212.7159068347, 1022502.7444734813, 1028022.4321627857, 1035660.8508354188, 1081539.7227843762, 1123777.6472583294, 1149922.1653939725, 1170438.8332747698, 1156850.925294018, 1171398.5964244367, 1129556.905911708, 1163167.107892728, 1174212.2991652966, 1185589.170157385, 1173940.291692734, 1192431.2888596803, 1217639.5197417394, 1247062.8604389764, 1223660.7814881126, 1155158.203958154, 1226951.5031905319, 1238509.2057780891, 1235331.5241026226, 1245026.3236671407, 1263907.5158594549, 1271844.6450455815, 1294485.1927279697, 1291282.240030161, 1301553.3499234736, 1311762.9454204238, 1304211.5403281022, 1337331.2421811486, 1388192.118983278, 1378357.0016336008, 1323269.3485192477, 1361918.5725262673, 1368226.4700292856, 1382612.9569748612, 1375118.4404024354, 1373650.0486699597, 1407456.0477282377, 1427533.258933604, 1428365.72925689, 1410200.392810557, 1385429.9464972713, 1411038.8709874784, 1438366.1574475481, 1451794.4839669229, 1442346.6329436074, 1465056.5858937856, 1475710.1470289575, 1508048.41487702, 1487684.3639571497, 1502742.172705681, 1549276.7447354796, 1537402.3115238664, 1510257.216575414, 1483312.469379899, 1457898.1495839912, 1468090.9826250374, 1393226.7870555623, 1457109.7903148157, 1421876.378931762, 1425797.7219551268, 1441827.9066739054, 1466380.51940538, 1469733.54984955, 1485825.0877557874, 1492174.600435513, 1508373.2257030637, 1522426.1672280738, 1521975.8627712247, 1537128.1130138717, 1607524.2667928697, 1614941.275366504, 1658668.7895125113, 1711231.5906934596, 1673340.430683836, 1647638.1312516204, 1677160.1523303366, 1693138.2047629128, 1775504.2685545522, 1761798.1140249784, 1766742.9014442116, 1786128.6400897165, 1780048.0539711653, 1784678.7950793197, 1762338.1229405205, 1731639.921170892, 1809293.8233112942, 1852801.3381101377, 1844857.8254401032, 1802960.5649223076, 1809235.7674671065, 1803575.8145136153, 1811042.6403940492, 1771647.8852036826, 1738564.3839783848, 1573482.3682809055, 1589091.5926795185, 1673234.8121314228, 1631158.9036832035, 1625497.1271019161, 1626833.0679917515, 1619991.2858157337, 1617219.7315802753, 1669812.726295966, 1663664.85000183, 1693257.01522972, 1660555.2636113346, 1657953.755918044, 1632986.4890566051, 1591598.7846131504, 1560210.2806453884, 1569169.441230315, 1629353.038915652, 1616698.855251807, 1599841.42847206, 1578817.918024081, 1535715.8000974834, 1520589.7768502415, 1545329.7466015995, 1641231.4524579227, 1677397.590686816, 1687232.162282008, 1688237.8892121494, 1713833.5143475712, 1792561.1086011112, 1794115.2574010075, 1766128.4984526813, 1788686.694205302, 1782551.914035815, 1821719.2025118053, 1786992.1491179646, 1812608.3151278675, 1813560.5168218792, 1779916.2286801517, 1762897.264386195, 1772193.959458846, 1761307.3444180668, 1695807.743077773, 1733278.0023989857, 1732749.0926265896, 1737482.358109969, 1737857.2191667736, 1790651.4421253384, 1799323.9723305881, 1772582.762154597, 1767260.2029304684, 1787581.8048052967, 1796266.1583104313, 1796341.6697354496, 1790277.0666394413, 1779511.6609382809, 1759457.4171629131, 1733272.5499201, 1693921.6904564083, 1691763.2097411335, 1689340.3725767315, 1709704.3490920246, 1724103.6493377865, 1691927.2782311619, 1690053.9742641628, 1643638.4315738857, 1598119.7660031498, 1563023.1327696026, 1551287.1661634624, 1603423.1475405872, 1637664.5464258373, 1657982.2786402882, 1630301.407382983, 1622084.8480634869, 1579679.6446614445, 1576482.937889117, 1538101.7954335392, 1566395.70039894, 1622069.4993686855, 1598006.0833535374, 1577117.0883631886, 1546682.5067734898, 1584416.5638957203]\n"
          ],
          "name": "stdout"
        }
      ]
    },
    {
      "cell_type": "code",
      "metadata": {
        "colab": {
          "base_uri": "https://localhost:8080/",
          "height": 419
        },
        "id": "tDtw7MN5Kc1e",
        "outputId": "b9f28677-f78e-4185-d04b-2b058e2acbdd"
      },
      "source": [
        "new_df = df_account_value.copy()\n",
        "\n",
        "new_df[\"diff\"] = np.array(profit_list)\n",
        "\n",
        "new_df"
      ],
      "execution_count": 83,
      "outputs": [
        {
          "output_type": "execute_result",
          "data": {
            "text/html": [
              "<div>\n",
              "<style scoped>\n",
              "    .dataframe tbody tr th:only-of-type {\n",
              "        vertical-align: middle;\n",
              "    }\n",
              "\n",
              "    .dataframe tbody tr th {\n",
              "        vertical-align: top;\n",
              "    }\n",
              "\n",
              "    .dataframe thead th {\n",
              "        text-align: right;\n",
              "    }\n",
              "</style>\n",
              "<table border=\"1\" class=\"dataframe\">\n",
              "  <thead>\n",
              "    <tr style=\"text-align: right;\">\n",
              "      <th></th>\n",
              "      <th>date</th>\n",
              "      <th>account_value</th>\n",
              "      <th>diff</th>\n",
              "    </tr>\n",
              "  </thead>\n",
              "  <tbody>\n",
              "    <tr>\n",
              "      <th>0</th>\n",
              "      <td>2020-07-27</td>\n",
              "      <td>1.000000e+06</td>\n",
              "      <td>-426.505993</td>\n",
              "    </tr>\n",
              "    <tr>\n",
              "      <th>1</th>\n",
              "      <td>2020-07-28</td>\n",
              "      <td>9.995735e+05</td>\n",
              "      <td>-403.374717</td>\n",
              "    </tr>\n",
              "    <tr>\n",
              "      <th>2</th>\n",
              "      <td>2020-07-29</td>\n",
              "      <td>9.991701e+05</td>\n",
              "      <td>-125.200159</td>\n",
              "    </tr>\n",
              "    <tr>\n",
              "      <th>3</th>\n",
              "      <td>2020-07-30</td>\n",
              "      <td>9.990449e+05</td>\n",
              "      <td>-261.116822</td>\n",
              "    </tr>\n",
              "    <tr>\n",
              "      <th>4</th>\n",
              "      <td>2020-08-04</td>\n",
              "      <td>9.987838e+05</td>\n",
              "      <td>-458.404094</td>\n",
              "    </tr>\n",
              "    <tr>\n",
              "      <th>...</th>\n",
              "      <td>...</td>\n",
              "      <td>...</td>\n",
              "      <td>...</td>\n",
              "    </tr>\n",
              "    <tr>\n",
              "      <th>244</th>\n",
              "      <td>2021-07-14</td>\n",
              "      <td>1.622069e+06</td>\n",
              "      <td>-24063.416015</td>\n",
              "    </tr>\n",
              "    <tr>\n",
              "      <th>245</th>\n",
              "      <td>2021-07-16</td>\n",
              "      <td>1.598006e+06</td>\n",
              "      <td>-20888.994990</td>\n",
              "    </tr>\n",
              "    <tr>\n",
              "      <th>246</th>\n",
              "      <td>2021-07-19</td>\n",
              "      <td>1.577117e+06</td>\n",
              "      <td>-30434.581590</td>\n",
              "    </tr>\n",
              "    <tr>\n",
              "      <th>247</th>\n",
              "      <td>2021-07-26</td>\n",
              "      <td>1.546683e+06</td>\n",
              "      <td>37734.057122</td>\n",
              "    </tr>\n",
              "    <tr>\n",
              "      <th>248</th>\n",
              "      <td>2021-07-27</td>\n",
              "      <td>1.584417e+06</td>\n",
              "      <td>0.000000</td>\n",
              "    </tr>\n",
              "  </tbody>\n",
              "</table>\n",
              "<p>249 rows × 3 columns</p>\n",
              "</div>"
            ],
            "text/plain": [
              "          date  account_value          diff\n",
              "0   2020-07-27   1.000000e+06   -426.505993\n",
              "1   2020-07-28   9.995735e+05   -403.374717\n",
              "2   2020-07-29   9.991701e+05   -125.200159\n",
              "3   2020-07-30   9.990449e+05   -261.116822\n",
              "4   2020-08-04   9.987838e+05   -458.404094\n",
              "..         ...            ...           ...\n",
              "244 2021-07-14   1.622069e+06 -24063.416015\n",
              "245 2021-07-16   1.598006e+06 -20888.994990\n",
              "246 2021-07-19   1.577117e+06 -30434.581590\n",
              "247 2021-07-26   1.546683e+06  37734.057122\n",
              "248 2021-07-27   1.584417e+06      0.000000\n",
              "\n",
              "[249 rows x 3 columns]"
            ]
          },
          "metadata": {
            "tags": []
          },
          "execution_count": 83
        }
      ]
    },
    {
      "cell_type": "code",
      "metadata": {
        "id": "Jo479ri9N260"
      },
      "source": [
        "%matplotlib inline"
      ],
      "execution_count": 77,
      "outputs": []
    },
    {
      "cell_type": "code",
      "metadata": {
        "colab": {
          "base_uri": "https://localhost:8080/",
          "height": 294
        },
        "id": "umY4JOOLOGuM",
        "outputId": "9d0e1e69-8f27-4f1e-a16c-20d6bb94a96d"
      },
      "source": [
        "# hesaptaki günlük kar-zarar grafiği\n",
        "new_df.plot(x='date', y='diff', kind = 'line')"
      ],
      "execution_count": 85,
      "outputs": [
        {
          "output_type": "execute_result",
          "data": {
            "text/plain": [
              "<matplotlib.axes._subplots.AxesSubplot at 0x7f2364e4d590>"
            ]
          },
          "metadata": {
            "tags": []
          },
          "execution_count": 85
        },
        {
          "output_type": "display_data",
          "data": {
            "image/png": "[encoded data removed]",
            "text/plain": [
              "<Figure size 432x288 with 1 Axes>"
            ]
          },
          "metadata": {
            "tags": [],
            "needs_background": "light"
          }
        }
      ]
    },
    {
      "cell_type": "code",
      "metadata": {
        "colab": {
          "base_uri": "https://localhost:8080/",
          "height": 305
        },
        "id": "iL_dJi5KQUsM",
        "outputId": "37bfd67e-6df1-4ee1-d5d7-1f932721e636"
      },
      "source": [
        "# total hesaptaki maliyetin değişimi\n",
        "new_df.plot(x='date', y='account_value', kind = 'line')"
      ],
      "execution_count": 86,
      "outputs": [
        {
          "output_type": "execute_result",
          "data": {
            "text/plain": [
              "<matplotlib.axes._subplots.AxesSubplot at 0x7f2364e60490>"
            ]
          },
          "metadata": {
            "tags": []
          },
          "execution_count": 86
        },
        {
          "output_type": "display_data",
          "data": {
            "image/png": "[encoded data removed]",
            "text/plain": [
              "<Figure size 432x288 with 1 Axes>"
            ]
          },
          "metadata": {
            "tags": [],
            "needs_background": "light"
          }
        }
      ]
    },
    {
      "cell_type": "code",
      "metadata": {
        "colab": {
          "base_uri": "https://localhost:8080/",
          "height": 450
        },
        "id": "zyBAqhLORJKV",
        "outputId": "f25af520-91cb-4233-9d84-d9b08aec2d3a"
      },
      "source": [
        "df_actions"
      ],
      "execution_count": 90,
      "outputs": [
        {
          "output_type": "execute_result",
          "data": {
            "text/html": [
              "<div>\n",
              "<style scoped>\n",
              "    .dataframe tbody tr th:only-of-type {\n",
              "        vertical-align: middle;\n",
              "    }\n",
              "\n",
              "    .dataframe tbody tr th {\n",
              "        vertical-align: top;\n",
              "    }\n",
              "\n",
              "    .dataframe thead th {\n",
              "        text-align: right;\n",
              "    }\n",
              "</style>\n",
              "<table border=\"1\" class=\"dataframe\">\n",
              "  <thead>\n",
              "    <tr style=\"text-align: right;\">\n",
              "      <th></th>\n",
              "      <th>AKBNK.IS</th>\n",
              "      <th>ARCLK.IS</th>\n",
              "      <th>BIMAS.IS</th>\n",
              "      <th>EREGL.IS</th>\n",
              "      <th>GARAN.IS</th>\n",
              "      <th>HALKB.IS</th>\n",
              "      <th>PETKM.IS</th>\n",
              "      <th>PGSUS.IS</th>\n",
              "      <th>SAHOL.IS</th>\n",
              "      <th>SASA.IS</th>\n",
              "      <th>VAKBN.IS</th>\n",
              "      <th>VESTL.IS</th>\n",
              "    </tr>\n",
              "    <tr>\n",
              "      <th>date</th>\n",
              "      <th></th>\n",
              "      <th></th>\n",
              "      <th></th>\n",
              "      <th></th>\n",
              "      <th></th>\n",
              "      <th></th>\n",
              "      <th></th>\n",
              "      <th></th>\n",
              "      <th></th>\n",
              "      <th></th>\n",
              "      <th></th>\n",
              "      <th></th>\n",
              "    </tr>\n",
              "  </thead>\n",
              "  <tbody>\n",
              "    <tr>\n",
              "      <th>2020-07-27</th>\n",
              "      <td>0</td>\n",
              "      <td>100</td>\n",
              "      <td>0</td>\n",
              "      <td>100</td>\n",
              "      <td>100</td>\n",
              "      <td>100</td>\n",
              "      <td>100</td>\n",
              "      <td>100</td>\n",
              "      <td>100</td>\n",
              "      <td>100</td>\n",
              "      <td>100</td>\n",
              "      <td>0</td>\n",
              "    </tr>\n",
              "    <tr>\n",
              "      <th>2020-07-28</th>\n",
              "      <td>0</td>\n",
              "      <td>100</td>\n",
              "      <td>0</td>\n",
              "      <td>100</td>\n",
              "      <td>100</td>\n",
              "      <td>100</td>\n",
              "      <td>100</td>\n",
              "      <td>100</td>\n",
              "      <td>100</td>\n",
              "      <td>100</td>\n",
              "      <td>100</td>\n",
              "      <td>0</td>\n",
              "    </tr>\n",
              "    <tr>\n",
              "      <th>2020-07-29</th>\n",
              "      <td>0</td>\n",
              "      <td>100</td>\n",
              "      <td>0</td>\n",
              "      <td>100</td>\n",
              "      <td>100</td>\n",
              "      <td>100</td>\n",
              "      <td>100</td>\n",
              "      <td>100</td>\n",
              "      <td>100</td>\n",
              "      <td>100</td>\n",
              "      <td>100</td>\n",
              "      <td>0</td>\n",
              "    </tr>\n",
              "    <tr>\n",
              "      <th>2020-07-30</th>\n",
              "      <td>0</td>\n",
              "      <td>100</td>\n",
              "      <td>0</td>\n",
              "      <td>100</td>\n",
              "      <td>100</td>\n",
              "      <td>100</td>\n",
              "      <td>100</td>\n",
              "      <td>100</td>\n",
              "      <td>100</td>\n",
              "      <td>100</td>\n",
              "      <td>100</td>\n",
              "      <td>0</td>\n",
              "    </tr>\n",
              "    <tr>\n",
              "      <th>2020-08-04</th>\n",
              "      <td>0</td>\n",
              "      <td>100</td>\n",
              "      <td>0</td>\n",
              "      <td>100</td>\n",
              "      <td>100</td>\n",
              "      <td>100</td>\n",
              "      <td>100</td>\n",
              "      <td>100</td>\n",
              "      <td>100</td>\n",
              "      <td>100</td>\n",
              "      <td>100</td>\n",
              "      <td>0</td>\n",
              "    </tr>\n",
              "    <tr>\n",
              "      <th>...</th>\n",
              "      <td>...</td>\n",
              "      <td>...</td>\n",
              "      <td>...</td>\n",
              "      <td>...</td>\n",
              "      <td>...</td>\n",
              "      <td>...</td>\n",
              "      <td>...</td>\n",
              "      <td>...</td>\n",
              "      <td>...</td>\n",
              "      <td>...</td>\n",
              "      <td>...</td>\n",
              "      <td>...</td>\n",
              "    </tr>\n",
              "    <tr>\n",
              "      <th>2021-07-13</th>\n",
              "      <td>0</td>\n",
              "      <td>0</td>\n",
              "      <td>0</td>\n",
              "      <td>0</td>\n",
              "      <td>0</td>\n",
              "      <td>0</td>\n",
              "      <td>0</td>\n",
              "      <td>0</td>\n",
              "      <td>0</td>\n",
              "      <td>0</td>\n",
              "      <td>0</td>\n",
              "      <td>0</td>\n",
              "    </tr>\n",
              "    <tr>\n",
              "      <th>2021-07-14</th>\n",
              "      <td>0</td>\n",
              "      <td>0</td>\n",
              "      <td>0</td>\n",
              "      <td>0</td>\n",
              "      <td>0</td>\n",
              "      <td>0</td>\n",
              "      <td>0</td>\n",
              "      <td>0</td>\n",
              "      <td>0</td>\n",
              "      <td>0</td>\n",
              "      <td>0</td>\n",
              "      <td>0</td>\n",
              "    </tr>\n",
              "    <tr>\n",
              "      <th>2021-07-16</th>\n",
              "      <td>0</td>\n",
              "      <td>0</td>\n",
              "      <td>0</td>\n",
              "      <td>0</td>\n",
              "      <td>0</td>\n",
              "      <td>0</td>\n",
              "      <td>0</td>\n",
              "      <td>0</td>\n",
              "      <td>0</td>\n",
              "      <td>0</td>\n",
              "      <td>0</td>\n",
              "      <td>0</td>\n",
              "    </tr>\n",
              "    <tr>\n",
              "      <th>2021-07-19</th>\n",
              "      <td>0</td>\n",
              "      <td>0</td>\n",
              "      <td>0</td>\n",
              "      <td>0</td>\n",
              "      <td>0</td>\n",
              "      <td>0</td>\n",
              "      <td>0</td>\n",
              "      <td>0</td>\n",
              "      <td>0</td>\n",
              "      <td>0</td>\n",
              "      <td>0</td>\n",
              "      <td>0</td>\n",
              "    </tr>\n",
              "    <tr>\n",
              "      <th>2021-07-26</th>\n",
              "      <td>0</td>\n",
              "      <td>0</td>\n",
              "      <td>0</td>\n",
              "      <td>0</td>\n",
              "      <td>0</td>\n",
              "      <td>0</td>\n",
              "      <td>0</td>\n",
              "      <td>0</td>\n",
              "      <td>0</td>\n",
              "      <td>0</td>\n",
              "      <td>0</td>\n",
              "      <td>0</td>\n",
              "    </tr>\n",
              "  </tbody>\n",
              "</table>\n",
              "<p>248 rows × 12 columns</p>\n",
              "</div>"
            ],
            "text/plain": [
              "            AKBNK.IS  ARCLK.IS  BIMAS.IS  ...  SASA.IS  VAKBN.IS  VESTL.IS\n",
              "date                                      ...                             \n",
              "2020-07-27         0       100         0  ...      100       100         0\n",
              "2020-07-28         0       100         0  ...      100       100         0\n",
              "2020-07-29         0       100         0  ...      100       100         0\n",
              "2020-07-30         0       100         0  ...      100       100         0\n",
              "2020-08-04         0       100         0  ...      100       100         0\n",
              "...              ...       ...       ...  ...      ...       ...       ...\n",
              "2021-07-13         0         0         0  ...        0         0         0\n",
              "2021-07-14         0         0         0  ...        0         0         0\n",
              "2021-07-16         0         0         0  ...        0         0         0\n",
              "2021-07-19         0         0         0  ...        0         0         0\n",
              "2021-07-26         0         0         0  ...        0         0         0\n",
              "\n",
              "[248 rows x 12 columns]"
            ]
          },
          "metadata": {
            "tags": []
          },
          "execution_count": 90
        }
      ]
    },
    {
      "cell_type": "code",
      "metadata": {
        "colab": {
          "base_uri": "https://localhost:8080/"
        },
        "id": "8QY_p6fdQnZa",
        "outputId": "16618165-f3de-4d07-b770-3ce27e2a6c0d"
      },
      "source": [
        "ticker_df = df_actions[\"VESTL.IS\"]\n",
        "ticker_df.sum()\n"
      ],
      "execution_count": 92,
      "outputs": [
        {
          "output_type": "execute_result",
          "data": {
            "text/plain": [
              "0"
            ]
          },
          "metadata": {
            "tags": []
          },
          "execution_count": 92
        }
      ]
    },
    {
      "cell_type": "markdown",
      "metadata": {
        "id": "LByUywpyRbU2"
      },
      "source": [
        "# 1 Day test"
      ]
    },
    {
      "cell_type": "code",
      "metadata": {
        "colab": {
          "base_uri": "https://localhost:8080/"
        },
        "id": "Lhx8uUqARl_Y",
        "outputId": "56a5b059-6f66-496a-fbb2-ff826dc6071b"
      },
      "source": [
        "print(\"==============Start Trading===========\")\n",
        "trade_1day = data_split(processed_full, \"2021-07-10\", \"2021-07-17\")\n",
        "\n",
        "e_trade_gym_1day = StockTradingEnv(df=trade_1day, turbulence_threshold=250, **env_kwargs)\n",
        "\n",
        "df_account_value_1day, df_actions_1day = DRLAgent.DRL_prediction( model=trained_sac, environment = e_trade_gym_1day)\n"
      ],
      "execution_count": 93,
      "outputs": [
        {
          "output_type": "stream",
          "text": [
            "==============Start Trading===========\n",
            "hit end!\n"
          ],
          "name": "stdout"
        }
      ]
    },
    {
      "cell_type": "code",
      "metadata": {
        "colab": {
          "base_uri": "https://localhost:8080/",
          "height": 173
        },
        "id": "W_99Lgj9R5KX",
        "outputId": "3d5d690c-896a-453b-bfd3-c4985be0f0c5"
      },
      "source": [
        "df_account_value_1day"
      ],
      "execution_count": 96,
      "outputs": [
        {
          "output_type": "execute_result",
          "data": {
            "text/html": [
              "<div>\n",
              "<style scoped>\n",
              "    .dataframe tbody tr th:only-of-type {\n",
              "        vertical-align: middle;\n",
              "    }\n",
              "\n",
              "    .dataframe tbody tr th {\n",
              "        vertical-align: top;\n",
              "    }\n",
              "\n",
              "    .dataframe thead th {\n",
              "        text-align: right;\n",
              "    }\n",
              "</style>\n",
              "<table border=\"1\" class=\"dataframe\">\n",
              "  <thead>\n",
              "    <tr style=\"text-align: right;\">\n",
              "      <th></th>\n",
              "      <th>date</th>\n",
              "      <th>account_value</th>\n",
              "    </tr>\n",
              "  </thead>\n",
              "  <tbody>\n",
              "    <tr>\n",
              "      <th>0</th>\n",
              "      <td>2021-07-12</td>\n",
              "      <td>1.000000e+06</td>\n",
              "    </tr>\n",
              "    <tr>\n",
              "      <th>1</th>\n",
              "      <td>2021-07-13</td>\n",
              "      <td>1.000128e+06</td>\n",
              "    </tr>\n",
              "    <tr>\n",
              "      <th>2</th>\n",
              "      <td>2021-07-14</td>\n",
              "      <td>1.000954e+06</td>\n",
              "    </tr>\n",
              "    <tr>\n",
              "      <th>3</th>\n",
              "      <td>2021-07-16</td>\n",
              "      <td>1.000596e+06</td>\n",
              "    </tr>\n",
              "  </tbody>\n",
              "</table>\n",
              "</div>"
            ],
            "text/plain": [
              "        date  account_value\n",
              "0 2021-07-12   1.000000e+06\n",
              "1 2021-07-13   1.000128e+06\n",
              "2 2021-07-14   1.000954e+06\n",
              "3 2021-07-16   1.000596e+06"
            ]
          },
          "metadata": {
            "tags": []
          },
          "execution_count": 96
        }
      ]
    },
    {
      "cell_type": "code",
      "metadata": {
        "colab": {
          "base_uri": "https://localhost:8080/",
          "height": 173
        },
        "id": "ZD8pe2evRavR",
        "outputId": "ba1cdbc5-adb8-4f52-8cfb-7664ebc08a03"
      },
      "source": [
        "df_actions_1day"
      ],
      "execution_count": 95,
      "outputs": [
        {
          "output_type": "execute_result",
          "data": {
            "text/html": [
              "<div>\n",
              "<style scoped>\n",
              "    .dataframe tbody tr th:only-of-type {\n",
              "        vertical-align: middle;\n",
              "    }\n",
              "\n",
              "    .dataframe tbody tr th {\n",
              "        vertical-align: top;\n",
              "    }\n",
              "\n",
              "    .dataframe thead th {\n",
              "        text-align: right;\n",
              "    }\n",
              "</style>\n",
              "<table border=\"1\" class=\"dataframe\">\n",
              "  <thead>\n",
              "    <tr style=\"text-align: right;\">\n",
              "      <th></th>\n",
              "      <th>AKBNK.IS</th>\n",
              "      <th>ARCLK.IS</th>\n",
              "      <th>BIMAS.IS</th>\n",
              "      <th>EREGL.IS</th>\n",
              "      <th>GARAN.IS</th>\n",
              "      <th>HALKB.IS</th>\n",
              "      <th>PETKM.IS</th>\n",
              "      <th>PGSUS.IS</th>\n",
              "      <th>SAHOL.IS</th>\n",
              "      <th>SASA.IS</th>\n",
              "      <th>VAKBN.IS</th>\n",
              "      <th>VESTL.IS</th>\n",
              "    </tr>\n",
              "    <tr>\n",
              "      <th>date</th>\n",
              "      <th></th>\n",
              "      <th></th>\n",
              "      <th></th>\n",
              "      <th></th>\n",
              "      <th></th>\n",
              "      <th></th>\n",
              "      <th></th>\n",
              "      <th></th>\n",
              "      <th></th>\n",
              "      <th></th>\n",
              "      <th></th>\n",
              "      <th></th>\n",
              "    </tr>\n",
              "  </thead>\n",
              "  <tbody>\n",
              "    <tr>\n",
              "      <th>2021-07-12</th>\n",
              "      <td>0</td>\n",
              "      <td>100</td>\n",
              "      <td>0</td>\n",
              "      <td>100</td>\n",
              "      <td>100</td>\n",
              "      <td>100</td>\n",
              "      <td>100</td>\n",
              "      <td>100</td>\n",
              "      <td>100</td>\n",
              "      <td>100</td>\n",
              "      <td>100</td>\n",
              "      <td>0</td>\n",
              "    </tr>\n",
              "    <tr>\n",
              "      <th>2021-07-13</th>\n",
              "      <td>0</td>\n",
              "      <td>100</td>\n",
              "      <td>0</td>\n",
              "      <td>100</td>\n",
              "      <td>100</td>\n",
              "      <td>100</td>\n",
              "      <td>100</td>\n",
              "      <td>100</td>\n",
              "      <td>100</td>\n",
              "      <td>100</td>\n",
              "      <td>100</td>\n",
              "      <td>0</td>\n",
              "    </tr>\n",
              "    <tr>\n",
              "      <th>2021-07-14</th>\n",
              "      <td>0</td>\n",
              "      <td>100</td>\n",
              "      <td>0</td>\n",
              "      <td>100</td>\n",
              "      <td>100</td>\n",
              "      <td>100</td>\n",
              "      <td>100</td>\n",
              "      <td>100</td>\n",
              "      <td>100</td>\n",
              "      <td>100</td>\n",
              "      <td>100</td>\n",
              "      <td>0</td>\n",
              "    </tr>\n",
              "  </tbody>\n",
              "</table>\n",
              "</div>"
            ],
            "text/plain": [
              "            AKBNK.IS  ARCLK.IS  BIMAS.IS  ...  SASA.IS  VAKBN.IS  VESTL.IS\n",
              "date                                      ...                             \n",
              "2021-07-12         0       100         0  ...      100       100         0\n",
              "2021-07-13         0       100         0  ...      100       100         0\n",
              "2021-07-14         0       100         0  ...      100       100         0\n",
              "\n",
              "[3 rows x 12 columns]"
            ]
          },
          "metadata": {
            "tags": []
          },
          "execution_count": 95
        }
      ]
    },
    {
      "cell_type": "code",
      "metadata": {
        "id": "Zy0eqA48RGUY",
        "colab": {
          "base_uri": "https://localhost:8080/",
          "height": 35
        },
        "outputId": "1456271f-4cf8-44d1-b8b1-752f0691f44c"
      },
      "source": [
        "import os\n",
        "cwd = os.getcwd()\n",
        "cwd"
      ],
      "execution_count": 35,
      "outputs": [
        {
          "output_type": "execute_result",
          "data": {
            "application/vnd.google.colaboratory.intrinsic+json": {
              "type": "string"
            },
            "text/plain": [
              "'/content'"
            ]
          },
          "metadata": {
            "tags": []
          },
          "execution_count": 35
        }
      ]
    },
    {
      "cell_type": "code",
      "metadata": {
        "id": "QZQ6ozdoP7Kj"
      },
      "source": [
        "import os\n",
        "os.chdir('/content/saved_model')\n",
        "\n",
        "\n",
        "with open(\"./\" + \"/df_account_value_BIST\" + now + \".csv\", 'a') as f1:\n",
        "    df_account_value.to_csv(f1, header=False)\n",
        "\n",
        "with open(\"./\"+ \"/df_actions_BIST\" + now + \".csv\", 'a') as f2:\n",
        "    df_actions.to_csv(f2, header=False)\n",
        "\n",
        "\n"
      ],
      "execution_count": 36,
      "outputs": []
    },
    {
      "cell_type": "markdown",
      "metadata": {
        "id": "E6OJy7Q1G5Fx"
      },
      "source": [
        "#Backtesting "
      ]
    },
    {
      "cell_type": "code",
      "metadata": {
        "id": "NbDgsADvG7vW",
        "colab": {
          "base_uri": "https://localhost:8080/"
        },
        "outputId": "84c102a5-1cef-4c66-80b0-7cf17f87b5c3"
      },
      "source": [
        "print(\"==============Get Backtest Results===========\")\n",
        "perf_stats_all = backtest_stats(df_account_value)\n",
        "perf_stats_all = pd.DataFrame(perf_stats_all)\n",
        "perf_stats_all.to_csv(\"./\" +\"/perf_stats_all_BIST\" + now + \".csv\")\n"
      ],
      "execution_count": 37,
      "outputs": [
        {
          "output_type": "stream",
          "text": [
            "==============Get Backtest Results===========\n",
            "Annual return          0.593226\n",
            "Cumulative returns     0.584417\n",
            "Annual volatility      0.300471\n",
            "Sharpe ratio           1.707604\n",
            "Calmar ratio           3.308525\n",
            "Stability              0.837990\n",
            "Max drawdown          -0.179302\n",
            "Omega ratio            1.366527\n",
            "Sortino ratio          2.636390\n",
            "Skew                        NaN\n",
            "Kurtosis                    NaN\n",
            "Tail ratio             1.393927\n",
            "Daily value at risk   -0.035820\n",
            "dtype: float64\n"
          ],
          "name": "stdout"
        }
      ]
    },
    {
      "cell_type": "markdown",
      "metadata": {
        "id": "tHKZORmSSxYy"
      },
      "source": [
        " #Understanding Format of Variables:"
      ]
    },
    {
      "cell_type": "code",
      "metadata": {
        "id": "8xfRhJK4S24Q",
        "colab": {
          "base_uri": "https://localhost:8080/",
          "height": 606
        },
        "outputId": "da3a88df-fc50-4475-b891-9aa45e793651"
      },
      "source": [
        "train"
      ],
      "execution_count": 38,
      "outputs": [
        {
          "output_type": "execute_result",
          "data": {
            "text/html": [
              "<div>\n",
              "<style scoped>\n",
              "    .dataframe tbody tr th:only-of-type {\n",
              "        vertical-align: middle;\n",
              "    }\n",
              "\n",
              "    .dataframe tbody tr th {\n",
              "        vertical-align: top;\n",
              "    }\n",
              "\n",
              "    .dataframe thead th {\n",
              "        text-align: right;\n",
              "    }\n",
              "</style>\n",
              "<table border=\"1\" class=\"dataframe\">\n",
              "  <thead>\n",
              "    <tr style=\"text-align: right;\">\n",
              "      <th></th>\n",
              "      <th>open</th>\n",
              "      <th>high</th>\n",
              "      <th>low</th>\n",
              "      <th>close</th>\n",
              "      <th>adj close</th>\n",
              "      <th>volume</th>\n",
              "      <th>tic</th>\n",
              "      <th>date</th>\n",
              "      <th>macd</th>\n",
              "      <th>rsi_30</th>\n",
              "      <th>cci_30</th>\n",
              "      <th>dx_30</th>\n",
              "      <th>turbulence</th>\n",
              "    </tr>\n",
              "  </thead>\n",
              "  <tbody>\n",
              "    <tr>\n",
              "      <th>0</th>\n",
              "      <td>6.182181</td>\n",
              "      <td>6.182181</td>\n",
              "      <td>6.122160</td>\n",
              "      <td>6.165032</td>\n",
              "      <td>5.510608</td>\n",
              "      <td>13466375.0</td>\n",
              "      <td>AKBNK.IS</td>\n",
              "      <td>2015-07-27</td>\n",
              "      <td>0.000000</td>\n",
              "      <td>0.000000</td>\n",
              "      <td>66.666667</td>\n",
              "      <td>100.000000</td>\n",
              "      <td>0.000000</td>\n",
              "    </tr>\n",
              "    <tr>\n",
              "      <th>0</th>\n",
              "      <td>14.750000</td>\n",
              "      <td>14.950000</td>\n",
              "      <td>14.500000</td>\n",
              "      <td>14.600000</td>\n",
              "      <td>11.878804</td>\n",
              "      <td>1976842.0</td>\n",
              "      <td>ARCLK.IS</td>\n",
              "      <td>2015-07-27</td>\n",
              "      <td>0.000000</td>\n",
              "      <td>0.000000</td>\n",
              "      <td>66.666667</td>\n",
              "      <td>100.000000</td>\n",
              "      <td>0.000000</td>\n",
              "    </tr>\n",
              "    <tr>\n",
              "      <th>0</th>\n",
              "      <td>23.525000</td>\n",
              "      <td>23.799999</td>\n",
              "      <td>23.325001</td>\n",
              "      <td>23.600000</td>\n",
              "      <td>19.072001</td>\n",
              "      <td>628882.0</td>\n",
              "      <td>BIMAS.IS</td>\n",
              "      <td>2015-07-27</td>\n",
              "      <td>0.000000</td>\n",
              "      <td>0.000000</td>\n",
              "      <td>66.666667</td>\n",
              "      <td>100.000000</td>\n",
              "      <td>0.000000</td>\n",
              "    </tr>\n",
              "    <tr>\n",
              "      <th>0</th>\n",
              "      <td>3.990000</td>\n",
              "      <td>4.040000</td>\n",
              "      <td>3.960000</td>\n",
              "      <td>4.040000</td>\n",
              "      <td>1.965522</td>\n",
              "      <td>6776403.0</td>\n",
              "      <td>EREGL.IS</td>\n",
              "      <td>2015-07-27</td>\n",
              "      <td>0.000000</td>\n",
              "      <td>0.000000</td>\n",
              "      <td>66.666667</td>\n",
              "      <td>100.000000</td>\n",
              "      <td>0.000000</td>\n",
              "    </tr>\n",
              "    <tr>\n",
              "      <th>0</th>\n",
              "      <td>7.900000</td>\n",
              "      <td>7.910000</td>\n",
              "      <td>7.740000</td>\n",
              "      <td>7.760000</td>\n",
              "      <td>6.942376</td>\n",
              "      <td>63095366.0</td>\n",
              "      <td>GARAN.IS</td>\n",
              "      <td>2015-07-27</td>\n",
              "      <td>0.000000</td>\n",
              "      <td>0.000000</td>\n",
              "      <td>66.666667</td>\n",
              "      <td>100.000000</td>\n",
              "      <td>0.000000</td>\n",
              "    </tr>\n",
              "    <tr>\n",
              "      <th>...</th>\n",
              "      <td>...</td>\n",
              "      <td>...</td>\n",
              "      <td>...</td>\n",
              "      <td>...</td>\n",
              "      <td>...</td>\n",
              "      <td>...</td>\n",
              "      <td>...</td>\n",
              "      <td>...</td>\n",
              "      <td>...</td>\n",
              "      <td>...</td>\n",
              "      <td>...</td>\n",
              "      <td>...</td>\n",
              "      <td>...</td>\n",
              "    </tr>\n",
              "    <tr>\n",
              "      <th>1281</th>\n",
              "      <td>51.000000</td>\n",
              "      <td>51.900002</td>\n",
              "      <td>50.650002</td>\n",
              "      <td>51.349998</td>\n",
              "      <td>51.349998</td>\n",
              "      <td>2002048.0</td>\n",
              "      <td>PGSUS.IS</td>\n",
              "      <td>2020-07-24</td>\n",
              "      <td>-1.015999</td>\n",
              "      <td>46.712444</td>\n",
              "      <td>-87.886699</td>\n",
              "      <td>5.067109</td>\n",
              "      <td>2.554014</td>\n",
              "    </tr>\n",
              "    <tr>\n",
              "      <th>1281</th>\n",
              "      <td>9.150000</td>\n",
              "      <td>9.150000</td>\n",
              "      <td>9.050000</td>\n",
              "      <td>9.100000</td>\n",
              "      <td>8.755303</td>\n",
              "      <td>5455417.0</td>\n",
              "      <td>SAHOL.IS</td>\n",
              "      <td>2020-07-24</td>\n",
              "      <td>0.065249</td>\n",
              "      <td>52.595700</td>\n",
              "      <td>-79.706951</td>\n",
              "      <td>3.445070</td>\n",
              "      <td>2.554014</td>\n",
              "    </tr>\n",
              "    <tr>\n",
              "      <th>1281</th>\n",
              "      <td>10.004468</td>\n",
              "      <td>10.263843</td>\n",
              "      <td>9.930361</td>\n",
              "      <td>10.123040</td>\n",
              "      <td>10.123040</td>\n",
              "      <td>29892348.0</td>\n",
              "      <td>SASA.IS</td>\n",
              "      <td>2020-07-24</td>\n",
              "      <td>0.633239</td>\n",
              "      <td>68.646562</td>\n",
              "      <td>138.956885</td>\n",
              "      <td>47.425085</td>\n",
              "      <td>2.554014</td>\n",
              "    </tr>\n",
              "    <tr>\n",
              "      <th>1281</th>\n",
              "      <td>4.890000</td>\n",
              "      <td>4.920000</td>\n",
              "      <td>4.840000</td>\n",
              "      <td>4.880000</td>\n",
              "      <td>4.880000</td>\n",
              "      <td>39839221.0</td>\n",
              "      <td>VAKBN.IS</td>\n",
              "      <td>2020-07-24</td>\n",
              "      <td>-0.010792</td>\n",
              "      <td>48.479858</td>\n",
              "      <td>-67.830976</td>\n",
              "      <td>7.872245</td>\n",
              "      <td>2.554014</td>\n",
              "    </tr>\n",
              "    <tr>\n",
              "      <th>1281</th>\n",
              "      <td>17.610001</td>\n",
              "      <td>18.020000</td>\n",
              "      <td>17.549999</td>\n",
              "      <td>17.870001</td>\n",
              "      <td>16.569773</td>\n",
              "      <td>6374577.0</td>\n",
              "      <td>VESTL.IS</td>\n",
              "      <td>2020-07-24</td>\n",
              "      <td>0.627537</td>\n",
              "      <td>67.731690</td>\n",
              "      <td>146.521463</td>\n",
              "      <td>45.110488</td>\n",
              "      <td>2.554014</td>\n",
              "    </tr>\n",
              "  </tbody>\n",
              "</table>\n",
              "<p>15384 rows × 13 columns</p>\n",
              "</div>"
            ],
            "text/plain": [
              "           open       high        low  ...      cci_30       dx_30  turbulence\n",
              "0      6.182181   6.182181   6.122160  ...   66.666667  100.000000    0.000000\n",
              "0     14.750000  14.950000  14.500000  ...   66.666667  100.000000    0.000000\n",
              "0     23.525000  23.799999  23.325001  ...   66.666667  100.000000    0.000000\n",
              "0      3.990000   4.040000   3.960000  ...   66.666667  100.000000    0.000000\n",
              "0      7.900000   7.910000   7.740000  ...   66.666667  100.000000    0.000000\n",
              "...         ...        ...        ...  ...         ...         ...         ...\n",
              "1281  51.000000  51.900002  50.650002  ...  -87.886699    5.067109    2.554014\n",
              "1281   9.150000   9.150000   9.050000  ...  -79.706951    3.445070    2.554014\n",
              "1281  10.004468  10.263843   9.930361  ...  138.956885   47.425085    2.554014\n",
              "1281   4.890000   4.920000   4.840000  ...  -67.830976    7.872245    2.554014\n",
              "1281  17.610001  18.020000  17.549999  ...  146.521463   45.110488    2.554014\n",
              "\n",
              "[15384 rows x 13 columns]"
            ]
          },
          "metadata": {
            "tags": []
          },
          "execution_count": 38
        }
      ]
    },
    {
      "cell_type": "code",
      "metadata": {
        "id": "Qxv9m-qhTCKq",
        "colab": {
          "base_uri": "https://localhost:8080/",
          "height": 419
        },
        "outputId": "cfb157c0-56d5-454d-9217-43cdf77b5fda"
      },
      "source": [
        "trade"
      ],
      "execution_count": 39,
      "outputs": [
        {
          "output_type": "execute_result",
          "data": {
            "text/html": [
              "<div>\n",
              "<style scoped>\n",
              "    .dataframe tbody tr th:only-of-type {\n",
              "        vertical-align: middle;\n",
              "    }\n",
              "\n",
              "    .dataframe tbody tr th {\n",
              "        vertical-align: top;\n",
              "    }\n",
              "\n",
              "    .dataframe thead th {\n",
              "        text-align: right;\n",
              "    }\n",
              "</style>\n",
              "<table border=\"1\" class=\"dataframe\">\n",
              "  <thead>\n",
              "    <tr style=\"text-align: right;\">\n",
              "      <th></th>\n",
              "      <th>open</th>\n",
              "      <th>high</th>\n",
              "      <th>low</th>\n",
              "      <th>close</th>\n",
              "      <th>adj close</th>\n",
              "      <th>volume</th>\n",
              "      <th>tic</th>\n",
              "      <th>date</th>\n",
              "      <th>macd</th>\n",
              "      <th>rsi_30</th>\n",
              "      <th>cci_30</th>\n",
              "      <th>dx_30</th>\n",
              "      <th>turbulence</th>\n",
              "    </tr>\n",
              "  </thead>\n",
              "  <tbody>\n",
              "    <tr>\n",
              "      <th>0</th>\n",
              "      <td>5.800000</td>\n",
              "      <td>5.810000</td>\n",
              "      <td>5.700000</td>\n",
              "      <td>5.720000</td>\n",
              "      <td>5.578002</td>\n",
              "      <td>43319180.0</td>\n",
              "      <td>AKBNK.IS</td>\n",
              "      <td>2020-07-27</td>\n",
              "      <td>-0.032535</td>\n",
              "      <td>45.321645</td>\n",
              "      <td>-107.064136</td>\n",
              "      <td>3.281478</td>\n",
              "      <td>6.141735</td>\n",
              "    </tr>\n",
              "    <tr>\n",
              "      <th>0</th>\n",
              "      <td>22.240000</td>\n",
              "      <td>22.540001</td>\n",
              "      <td>22.100000</td>\n",
              "      <td>22.160000</td>\n",
              "      <td>20.744827</td>\n",
              "      <td>10243494.0</td>\n",
              "      <td>ARCLK.IS</td>\n",
              "      <td>2020-07-27</td>\n",
              "      <td>1.084334</td>\n",
              "      <td>71.838800</td>\n",
              "      <td>145.124012</td>\n",
              "      <td>62.664200</td>\n",
              "      <td>6.141735</td>\n",
              "    </tr>\n",
              "    <tr>\n",
              "      <th>0</th>\n",
              "      <td>74.699997</td>\n",
              "      <td>75.900002</td>\n",
              "      <td>74.250000</td>\n",
              "      <td>74.300003</td>\n",
              "      <td>69.351898</td>\n",
              "      <td>2675233.0</td>\n",
              "      <td>BIMAS.IS</td>\n",
              "      <td>2020-07-27</td>\n",
              "      <td>1.951131</td>\n",
              "      <td>65.861834</td>\n",
              "      <td>192.733720</td>\n",
              "      <td>48.082447</td>\n",
              "      <td>6.141735</td>\n",
              "    </tr>\n",
              "    <tr>\n",
              "      <th>0</th>\n",
              "      <td>8.410000</td>\n",
              "      <td>8.510000</td>\n",
              "      <td>8.390000</td>\n",
              "      <td>8.470000</td>\n",
              "      <td>7.452500</td>\n",
              "      <td>36658368.0</td>\n",
              "      <td>EREGL.IS</td>\n",
              "      <td>2020-07-27</td>\n",
              "      <td>0.000343</td>\n",
              "      <td>50.769015</td>\n",
              "      <td>-40.977438</td>\n",
              "      <td>1.932329</td>\n",
              "      <td>6.141735</td>\n",
              "    </tr>\n",
              "    <tr>\n",
              "      <th>0</th>\n",
              "      <td>7.950000</td>\n",
              "      <td>7.960000</td>\n",
              "      <td>7.770000</td>\n",
              "      <td>7.800000</td>\n",
              "      <td>7.635209</td>\n",
              "      <td>98366875.0</td>\n",
              "      <td>GARAN.IS</td>\n",
              "      <td>2020-07-27</td>\n",
              "      <td>-0.083367</td>\n",
              "      <td>43.797485</td>\n",
              "      <td>-114.132586</td>\n",
              "      <td>16.189562</td>\n",
              "      <td>6.141735</td>\n",
              "    </tr>\n",
              "    <tr>\n",
              "      <th>...</th>\n",
              "      <td>...</td>\n",
              "      <td>...</td>\n",
              "      <td>...</td>\n",
              "      <td>...</td>\n",
              "      <td>...</td>\n",
              "      <td>...</td>\n",
              "      <td>...</td>\n",
              "      <td>...</td>\n",
              "      <td>...</td>\n",
              "      <td>...</td>\n",
              "      <td>...</td>\n",
              "      <td>...</td>\n",
              "      <td>...</td>\n",
              "    </tr>\n",
              "    <tr>\n",
              "      <th>248</th>\n",
              "      <td>67.699997</td>\n",
              "      <td>71.949997</td>\n",
              "      <td>67.199997</td>\n",
              "      <td>71.400002</td>\n",
              "      <td>71.400002</td>\n",
              "      <td>3505926.0</td>\n",
              "      <td>PGSUS.IS</td>\n",
              "      <td>2021-07-27</td>\n",
              "      <td>-2.136392</td>\n",
              "      <td>44.699076</td>\n",
              "      <td>-115.962311</td>\n",
              "      <td>31.513849</td>\n",
              "      <td>7.048507</td>\n",
              "    </tr>\n",
              "    <tr>\n",
              "      <th>248</th>\n",
              "      <td>9.070000</td>\n",
              "      <td>9.300000</td>\n",
              "      <td>9.020000</td>\n",
              "      <td>9.290000</td>\n",
              "      <td>9.290000</td>\n",
              "      <td>17634418.0</td>\n",
              "      <td>SAHOL.IS</td>\n",
              "      <td>2021-07-27</td>\n",
              "      <td>0.000826</td>\n",
              "      <td>53.078843</td>\n",
              "      <td>5.758155</td>\n",
              "      <td>11.416987</td>\n",
              "      <td>7.048507</td>\n",
              "    </tr>\n",
              "    <tr>\n",
              "      <th>248</th>\n",
              "      <td>29.680000</td>\n",
              "      <td>30.299999</td>\n",
              "      <td>29.340000</td>\n",
              "      <td>29.540001</td>\n",
              "      <td>29.540001</td>\n",
              "      <td>15605997.0</td>\n",
              "      <td>SASA.IS</td>\n",
              "      <td>2021-07-27</td>\n",
              "      <td>-0.567082</td>\n",
              "      <td>47.213518</td>\n",
              "      <td>-26.532921</td>\n",
              "      <td>13.879146</td>\n",
              "      <td>7.048507</td>\n",
              "    </tr>\n",
              "    <tr>\n",
              "      <th>248</th>\n",
              "      <td>3.430000</td>\n",
              "      <td>3.440000</td>\n",
              "      <td>3.390000</td>\n",
              "      <td>3.420000</td>\n",
              "      <td>3.420000</td>\n",
              "      <td>30871452.0</td>\n",
              "      <td>VAKBN.IS</td>\n",
              "      <td>2021-07-27</td>\n",
              "      <td>-0.036190</td>\n",
              "      <td>42.210935</td>\n",
              "      <td>-143.798826</td>\n",
              "      <td>35.035782</td>\n",
              "      <td>7.048507</td>\n",
              "    </tr>\n",
              "    <tr>\n",
              "      <th>248</th>\n",
              "      <td>31.980000</td>\n",
              "      <td>32.099998</td>\n",
              "      <td>31.740000</td>\n",
              "      <td>31.879999</td>\n",
              "      <td>29.560400</td>\n",
              "      <td>1726049.0</td>\n",
              "      <td>VESTL.IS</td>\n",
              "      <td>2021-07-27</td>\n",
              "      <td>0.218199</td>\n",
              "      <td>52.811599</td>\n",
              "      <td>90.842671</td>\n",
              "      <td>11.440791</td>\n",
              "      <td>7.048507</td>\n",
              "    </tr>\n",
              "  </tbody>\n",
              "</table>\n",
              "<p>2988 rows × 13 columns</p>\n",
              "</div>"
            ],
            "text/plain": [
              "          open       high        low  ...      cci_30      dx_30  turbulence\n",
              "0     5.800000   5.810000   5.700000  ... -107.064136   3.281478    6.141735\n",
              "0    22.240000  22.540001  22.100000  ...  145.124012  62.664200    6.141735\n",
              "0    74.699997  75.900002  74.250000  ...  192.733720  48.082447    6.141735\n",
              "0     8.410000   8.510000   8.390000  ...  -40.977438   1.932329    6.141735\n",
              "0     7.950000   7.960000   7.770000  ... -114.132586  16.189562    6.141735\n",
              "..         ...        ...        ...  ...         ...        ...         ...\n",
              "248  67.699997  71.949997  67.199997  ... -115.962311  31.513849    7.048507\n",
              "248   9.070000   9.300000   9.020000  ...    5.758155  11.416987    7.048507\n",
              "248  29.680000  30.299999  29.340000  ...  -26.532921  13.879146    7.048507\n",
              "248   3.430000   3.440000   3.390000  ... -143.798826  35.035782    7.048507\n",
              "248  31.980000  32.099998  31.740000  ...   90.842671  11.440791    7.048507\n",
              "\n",
              "[2988 rows x 13 columns]"
            ]
          },
          "metadata": {
            "tags": []
          },
          "execution_count": 39
        }
      ]
    },
    {
      "cell_type": "code",
      "metadata": {
        "id": "mboQr5oaTFiP",
        "colab": {
          "base_uri": "https://localhost:8080/"
        },
        "outputId": "9cc69e24-9a13-4324-dcc9-c84c00e94311"
      },
      "source": [
        "e_train_gym"
      ],
      "execution_count": 40,
      "outputs": [
        {
          "output_type": "execute_result",
          "data": {
            "text/plain": [
              "<finrl.neo_finrl.env_stock_trading.env_stocktrading.StockTradingEnv at 0x7f24075c41d0>"
            ]
          },
          "metadata": {
            "tags": []
          },
          "execution_count": 40
        }
      ]
    },
    {
      "cell_type": "code",
      "metadata": {
        "id": "W7SyYY_jTJlk",
        "colab": {
          "base_uri": "https://localhost:8080/"
        },
        "outputId": "44965915-7cd8-4130-bd40-08fab7f83626"
      },
      "source": [
        "agent"
      ],
      "execution_count": 41,
      "outputs": [
        {
          "output_type": "execute_result",
          "data": {
            "text/plain": [
              "<finrl.drl_agents.stablebaselines3.models.DRLAgent at 0x7f24971f6bd0>"
            ]
          },
          "metadata": {
            "tags": []
          },
          "execution_count": 41
        }
      ]
    },
    {
      "cell_type": "code",
      "metadata": {
        "id": "y2j0x7gxTLdf",
        "colab": {
          "base_uri": "https://localhost:8080/"
        },
        "outputId": "3ba81031-937f-4008-e145-9e81e94ac1e9"
      },
      "source": [
        "model_sac"
      ],
      "execution_count": 42,
      "outputs": [
        {
          "output_type": "execute_result",
          "data": {
            "text/plain": [
              "<stable_baselines3.sac.sac.SAC at 0x7f240f637210>"
            ]
          },
          "metadata": {
            "tags": []
          },
          "execution_count": 42
        }
      ]
    },
    {
      "cell_type": "code",
      "metadata": {
        "id": "nwp1Ei-7TMjd",
        "colab": {
          "base_uri": "https://localhost:8080/"
        },
        "outputId": "2aa70285-2e6e-45b8-d334-2aedaf3b5bef"
      },
      "source": [
        "trained_sac"
      ],
      "execution_count": 43,
      "outputs": [
        {
          "output_type": "execute_result",
          "data": {
            "text/plain": [
              "<stable_baselines3.sac.sac.SAC at 0x7f240f637210>"
            ]
          },
          "metadata": {
            "tags": []
          },
          "execution_count": 43
        }
      ]
    },
    {
      "cell_type": "code",
      "metadata": {
        "id": "oqvCayXrTOII",
        "colab": {
          "base_uri": "https://localhost:8080/"
        },
        "outputId": "2aa8f6a3-2689-4b4b-cf29-33dbb8681376"
      },
      "source": [
        "e_trade_gym"
      ],
      "execution_count": 44,
      "outputs": [
        {
          "output_type": "execute_result",
          "data": {
            "text/plain": [
              "<finrl.neo_finrl.env_stock_trading.env_stocktrading.StockTradingEnv at 0x7f236b103050>"
            ]
          },
          "metadata": {
            "tags": []
          },
          "execution_count": 44
        }
      ]
    },
    {
      "cell_type": "code",
      "metadata": {
        "id": "e_o_wCFITPEB",
        "colab": {
          "base_uri": "https://localhost:8080/",
          "height": 419
        },
        "outputId": "923e7078-5276-4e05-ea4c-51590e4fd7d4"
      },
      "source": [
        "df_account_value"
      ],
      "execution_count": 45,
      "outputs": [
        {
          "output_type": "execute_result",
          "data": {
            "text/html": [
              "<div>\n",
              "<style scoped>\n",
              "    .dataframe tbody tr th:only-of-type {\n",
              "        vertical-align: middle;\n",
              "    }\n",
              "\n",
              "    .dataframe tbody tr th {\n",
              "        vertical-align: top;\n",
              "    }\n",
              "\n",
              "    .dataframe thead th {\n",
              "        text-align: right;\n",
              "    }\n",
              "</style>\n",
              "<table border=\"1\" class=\"dataframe\">\n",
              "  <thead>\n",
              "    <tr style=\"text-align: right;\">\n",
              "      <th></th>\n",
              "      <th>date</th>\n",
              "      <th>account_value</th>\n",
              "    </tr>\n",
              "  </thead>\n",
              "  <tbody>\n",
              "    <tr>\n",
              "      <th>0</th>\n",
              "      <td>2020-07-27</td>\n",
              "      <td>1.000000e+06</td>\n",
              "    </tr>\n",
              "    <tr>\n",
              "      <th>1</th>\n",
              "      <td>2020-07-28</td>\n",
              "      <td>9.995735e+05</td>\n",
              "    </tr>\n",
              "    <tr>\n",
              "      <th>2</th>\n",
              "      <td>2020-07-29</td>\n",
              "      <td>9.991701e+05</td>\n",
              "    </tr>\n",
              "    <tr>\n",
              "      <th>3</th>\n",
              "      <td>2020-07-30</td>\n",
              "      <td>9.990449e+05</td>\n",
              "    </tr>\n",
              "    <tr>\n",
              "      <th>4</th>\n",
              "      <td>2020-08-04</td>\n",
              "      <td>9.987838e+05</td>\n",
              "    </tr>\n",
              "    <tr>\n",
              "      <th>...</th>\n",
              "      <td>...</td>\n",
              "      <td>...</td>\n",
              "    </tr>\n",
              "    <tr>\n",
              "      <th>244</th>\n",
              "      <td>2021-07-14</td>\n",
              "      <td>1.622069e+06</td>\n",
              "    </tr>\n",
              "    <tr>\n",
              "      <th>245</th>\n",
              "      <td>2021-07-16</td>\n",
              "      <td>1.598006e+06</td>\n",
              "    </tr>\n",
              "    <tr>\n",
              "      <th>246</th>\n",
              "      <td>2021-07-19</td>\n",
              "      <td>1.577117e+06</td>\n",
              "    </tr>\n",
              "    <tr>\n",
              "      <th>247</th>\n",
              "      <td>2021-07-26</td>\n",
              "      <td>1.546683e+06</td>\n",
              "    </tr>\n",
              "    <tr>\n",
              "      <th>248</th>\n",
              "      <td>2021-07-27</td>\n",
              "      <td>1.584417e+06</td>\n",
              "    </tr>\n",
              "  </tbody>\n",
              "</table>\n",
              "<p>249 rows × 2 columns</p>\n",
              "</div>"
            ],
            "text/plain": [
              "          date  account_value\n",
              "0   2020-07-27   1.000000e+06\n",
              "1   2020-07-28   9.995735e+05\n",
              "2   2020-07-29   9.991701e+05\n",
              "3   2020-07-30   9.990449e+05\n",
              "4   2020-08-04   9.987838e+05\n",
              "..         ...            ...\n",
              "244 2021-07-14   1.622069e+06\n",
              "245 2021-07-16   1.598006e+06\n",
              "246 2021-07-19   1.577117e+06\n",
              "247 2021-07-26   1.546683e+06\n",
              "248 2021-07-27   1.584417e+06\n",
              "\n",
              "[249 rows x 2 columns]"
            ]
          },
          "metadata": {
            "tags": []
          },
          "execution_count": 45
        }
      ]
    },
    {
      "cell_type": "code",
      "metadata": {
        "id": "OgyVX_vLTSD2",
        "colab": {
          "base_uri": "https://localhost:8080/",
          "height": 450
        },
        "outputId": "7908aa82-6a11-4a55-c719-487d00df413f"
      },
      "source": [
        "df_actions"
      ],
      "execution_count": 46,
      "outputs": [
        {
          "output_type": "execute_result",
          "data": {
            "text/html": [
              "<div>\n",
              "<style scoped>\n",
              "    .dataframe tbody tr th:only-of-type {\n",
              "        vertical-align: middle;\n",
              "    }\n",
              "\n",
              "    .dataframe tbody tr th {\n",
              "        vertical-align: top;\n",
              "    }\n",
              "\n",
              "    .dataframe thead th {\n",
              "        text-align: right;\n",
              "    }\n",
              "</style>\n",
              "<table border=\"1\" class=\"dataframe\">\n",
              "  <thead>\n",
              "    <tr style=\"text-align: right;\">\n",
              "      <th></th>\n",
              "      <th>AKBNK.IS</th>\n",
              "      <th>ARCLK.IS</th>\n",
              "      <th>BIMAS.IS</th>\n",
              "      <th>EREGL.IS</th>\n",
              "      <th>GARAN.IS</th>\n",
              "      <th>HALKB.IS</th>\n",
              "      <th>PETKM.IS</th>\n",
              "      <th>PGSUS.IS</th>\n",
              "      <th>SAHOL.IS</th>\n",
              "      <th>SASA.IS</th>\n",
              "      <th>VAKBN.IS</th>\n",
              "      <th>VESTL.IS</th>\n",
              "    </tr>\n",
              "    <tr>\n",
              "      <th>date</th>\n",
              "      <th></th>\n",
              "      <th></th>\n",
              "      <th></th>\n",
              "      <th></th>\n",
              "      <th></th>\n",
              "      <th></th>\n",
              "      <th></th>\n",
              "      <th></th>\n",
              "      <th></th>\n",
              "      <th></th>\n",
              "      <th></th>\n",
              "      <th></th>\n",
              "    </tr>\n",
              "  </thead>\n",
              "  <tbody>\n",
              "    <tr>\n",
              "      <th>2020-07-27</th>\n",
              "      <td>0</td>\n",
              "      <td>100</td>\n",
              "      <td>0</td>\n",
              "      <td>100</td>\n",
              "      <td>100</td>\n",
              "      <td>100</td>\n",
              "      <td>100</td>\n",
              "      <td>100</td>\n",
              "      <td>100</td>\n",
              "      <td>100</td>\n",
              "      <td>100</td>\n",
              "      <td>0</td>\n",
              "    </tr>\n",
              "    <tr>\n",
              "      <th>2020-07-28</th>\n",
              "      <td>0</td>\n",
              "      <td>100</td>\n",
              "      <td>0</td>\n",
              "      <td>100</td>\n",
              "      <td>100</td>\n",
              "      <td>100</td>\n",
              "      <td>100</td>\n",
              "      <td>100</td>\n",
              "      <td>100</td>\n",
              "      <td>100</td>\n",
              "      <td>100</td>\n",
              "      <td>0</td>\n",
              "    </tr>\n",
              "    <tr>\n",
              "      <th>2020-07-29</th>\n",
              "      <td>0</td>\n",
              "      <td>100</td>\n",
              "      <td>0</td>\n",
              "      <td>100</td>\n",
              "      <td>100</td>\n",
              "      <td>100</td>\n",
              "      <td>100</td>\n",
              "      <td>100</td>\n",
              "      <td>100</td>\n",
              "      <td>100</td>\n",
              "      <td>100</td>\n",
              "      <td>0</td>\n",
              "    </tr>\n",
              "    <tr>\n",
              "      <th>2020-07-30</th>\n",
              "      <td>0</td>\n",
              "      <td>100</td>\n",
              "      <td>0</td>\n",
              "      <td>100</td>\n",
              "      <td>100</td>\n",
              "      <td>100</td>\n",
              "      <td>100</td>\n",
              "      <td>100</td>\n",
              "      <td>100</td>\n",
              "      <td>100</td>\n",
              "      <td>100</td>\n",
              "      <td>0</td>\n",
              "    </tr>\n",
              "    <tr>\n",
              "      <th>2020-08-04</th>\n",
              "      <td>0</td>\n",
              "      <td>100</td>\n",
              "      <td>0</td>\n",
              "      <td>100</td>\n",
              "      <td>100</td>\n",
              "      <td>100</td>\n",
              "      <td>100</td>\n",
              "      <td>100</td>\n",
              "      <td>100</td>\n",
              "      <td>100</td>\n",
              "      <td>100</td>\n",
              "      <td>0</td>\n",
              "    </tr>\n",
              "    <tr>\n",
              "      <th>...</th>\n",
              "      <td>...</td>\n",
              "      <td>...</td>\n",
              "      <td>...</td>\n",
              "      <td>...</td>\n",
              "      <td>...</td>\n",
              "      <td>...</td>\n",
              "      <td>...</td>\n",
              "      <td>...</td>\n",
              "      <td>...</td>\n",
              "      <td>...</td>\n",
              "      <td>...</td>\n",
              "      <td>...</td>\n",
              "    </tr>\n",
              "    <tr>\n",
              "      <th>2021-07-13</th>\n",
              "      <td>0</td>\n",
              "      <td>0</td>\n",
              "      <td>0</td>\n",
              "      <td>0</td>\n",
              "      <td>0</td>\n",
              "      <td>0</td>\n",
              "      <td>0</td>\n",
              "      <td>0</td>\n",
              "      <td>0</td>\n",
              "      <td>0</td>\n",
              "      <td>0</td>\n",
              "      <td>0</td>\n",
              "    </tr>\n",
              "    <tr>\n",
              "      <th>2021-07-14</th>\n",
              "      <td>0</td>\n",
              "      <td>0</td>\n",
              "      <td>0</td>\n",
              "      <td>0</td>\n",
              "      <td>0</td>\n",
              "      <td>0</td>\n",
              "      <td>0</td>\n",
              "      <td>0</td>\n",
              "      <td>0</td>\n",
              "      <td>0</td>\n",
              "      <td>0</td>\n",
              "      <td>0</td>\n",
              "    </tr>\n",
              "    <tr>\n",
              "      <th>2021-07-16</th>\n",
              "      <td>0</td>\n",
              "      <td>0</td>\n",
              "      <td>0</td>\n",
              "      <td>0</td>\n",
              "      <td>0</td>\n",
              "      <td>0</td>\n",
              "      <td>0</td>\n",
              "      <td>0</td>\n",
              "      <td>0</td>\n",
              "      <td>0</td>\n",
              "      <td>0</td>\n",
              "      <td>0</td>\n",
              "    </tr>\n",
              "    <tr>\n",
              "      <th>2021-07-19</th>\n",
              "      <td>0</td>\n",
              "      <td>0</td>\n",
              "      <td>0</td>\n",
              "      <td>0</td>\n",
              "      <td>0</td>\n",
              "      <td>0</td>\n",
              "      <td>0</td>\n",
              "      <td>0</td>\n",
              "      <td>0</td>\n",
              "      <td>0</td>\n",
              "      <td>0</td>\n",
              "      <td>0</td>\n",
              "    </tr>\n",
              "    <tr>\n",
              "      <th>2021-07-26</th>\n",
              "      <td>0</td>\n",
              "      <td>0</td>\n",
              "      <td>0</td>\n",
              "      <td>0</td>\n",
              "      <td>0</td>\n",
              "      <td>0</td>\n",
              "      <td>0</td>\n",
              "      <td>0</td>\n",
              "      <td>0</td>\n",
              "      <td>0</td>\n",
              "      <td>0</td>\n",
              "      <td>0</td>\n",
              "    </tr>\n",
              "  </tbody>\n",
              "</table>\n",
              "<p>248 rows × 12 columns</p>\n",
              "</div>"
            ],
            "text/plain": [
              "            AKBNK.IS  ARCLK.IS  BIMAS.IS  ...  SASA.IS  VAKBN.IS  VESTL.IS\n",
              "date                                      ...                             \n",
              "2020-07-27         0       100         0  ...      100       100         0\n",
              "2020-07-28         0       100         0  ...      100       100         0\n",
              "2020-07-29         0       100         0  ...      100       100         0\n",
              "2020-07-30         0       100         0  ...      100       100         0\n",
              "2020-08-04         0       100         0  ...      100       100         0\n",
              "...              ...       ...       ...  ...      ...       ...       ...\n",
              "2021-07-13         0         0         0  ...        0         0         0\n",
              "2021-07-14         0         0         0  ...        0         0         0\n",
              "2021-07-16         0         0         0  ...        0         0         0\n",
              "2021-07-19         0         0         0  ...        0         0         0\n",
              "2021-07-26         0         0         0  ...        0         0         0\n",
              "\n",
              "[248 rows x 12 columns]"
            ]
          },
          "metadata": {
            "tags": []
          },
          "execution_count": 46
        }
      ]
    },
    {
      "cell_type": "code",
      "metadata": {
        "id": "2yRTv05jaNST"
      },
      "source": [
        ""
      ],
      "execution_count": 46,
      "outputs": []
    }
  ]
}